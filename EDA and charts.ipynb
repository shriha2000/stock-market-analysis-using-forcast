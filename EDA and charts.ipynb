{
 "cells": [
  {
   "cell_type": "code",
   "execution_count": 1,
   "id": "3e622e18",
   "metadata": {
    "ExecuteTime": {
     "end_time": "2023-02-17T14:48:43.659347Z",
     "start_time": "2023-02-17T14:48:11.721158Z"
    }
   },
   "outputs": [],
   "source": [
    "import numpy as np\n",
    "import pandas as pd\n",
    "import matplotlib.pyplot as plt\n",
    "import seaborn as sb\n",
    "\n",
    "from sklearn.model_selection import train_test_split\n",
    "from sklearn.linear_model import LogisticRegression\n",
    "from sklearn.preprocessing import StandardScaler\n",
    "from sklearn.svm import SVC\n",
    "import warnings\n",
    "warnings.filterwarnings('ignore')"
   ]
  },
  {
   "cell_type": "code",
   "execution_count": 4,
   "id": "76798476",
   "metadata": {
    "ExecuteTime": {
     "end_time": "2023-02-17T14:51:23.951282Z",
     "start_time": "2023-02-17T14:50:37.579432Z"
    }
   },
   "outputs": [
    {
     "data": {
      "text/html": [
       "<div>\n",
       "<style scoped>\n",
       "    .dataframe tbody tr th:only-of-type {\n",
       "        vertical-align: middle;\n",
       "    }\n",
       "\n",
       "    .dataframe tbody tr th {\n",
       "        vertical-align: top;\n",
       "    }\n",
       "\n",
       "    .dataframe thead th {\n",
       "        text-align: right;\n",
       "    }\n",
       "</style>\n",
       "<table border=\"1\" class=\"dataframe\">\n",
       "  <thead>\n",
       "    <tr style=\"text-align: right;\">\n",
       "      <th></th>\n",
       "      <th>Date</th>\n",
       "      <th>Open</th>\n",
       "      <th>High</th>\n",
       "      <th>Low</th>\n",
       "      <th>Close</th>\n",
       "      <th>Adj Close</th>\n",
       "      <th>Volume</th>\n",
       "      <th>No. of Shares</th>\n",
       "      <th>No. of Trades</th>\n",
       "      <th>Change(%)</th>\n",
       "    </tr>\n",
       "  </thead>\n",
       "  <tbody>\n",
       "    <tr>\n",
       "      <th>0</th>\n",
       "      <td>2015-01-01</td>\n",
       "      <td>438.988831</td>\n",
       "      <td>441.812073</td>\n",
       "      <td>437.676270</td>\n",
       "      <td>439.781311</td>\n",
       "      <td>417.988892</td>\n",
       "      <td>1367720.0</td>\n",
       "      <td>181432</td>\n",
       "      <td>9740</td>\n",
       "      <td>-0.0036</td>\n",
       "    </tr>\n",
       "    <tr>\n",
       "      <th>1</th>\n",
       "      <td>2015-01-02</td>\n",
       "      <td>439.880371</td>\n",
       "      <td>443.818054</td>\n",
       "      <td>437.998199</td>\n",
       "      <td>438.617340</td>\n",
       "      <td>416.882599</td>\n",
       "      <td>3383424.0</td>\n",
       "      <td>260835</td>\n",
       "      <td>19270</td>\n",
       "      <td>-0.0026</td>\n",
       "    </tr>\n",
       "    <tr>\n",
       "      <th>2</th>\n",
       "      <td>2015-01-05</td>\n",
       "      <td>438.344940</td>\n",
       "      <td>441.267212</td>\n",
       "      <td>432.946106</td>\n",
       "      <td>433.812897</td>\n",
       "      <td>412.316284</td>\n",
       "      <td>4662967.0</td>\n",
       "      <td>328788</td>\n",
       "      <td>39864</td>\n",
       "      <td>-0.0110</td>\n",
       "    </tr>\n",
       "    <tr>\n",
       "      <th>3</th>\n",
       "      <td>2015-01-06</td>\n",
       "      <td>430.915344</td>\n",
       "      <td>432.401276</td>\n",
       "      <td>412.093750</td>\n",
       "      <td>414.124512</td>\n",
       "      <td>393.603546</td>\n",
       "      <td>8596809.0</td>\n",
       "      <td>975422</td>\n",
       "      <td>26226</td>\n",
       "      <td>-0.0454</td>\n",
       "    </tr>\n",
       "    <tr>\n",
       "      <th>4</th>\n",
       "      <td>2015-01-07</td>\n",
       "      <td>414.619812</td>\n",
       "      <td>425.367950</td>\n",
       "      <td>414.570282</td>\n",
       "      <td>423.139069</td>\n",
       "      <td>402.171295</td>\n",
       "      <td>9562421.0</td>\n",
       "      <td>660342</td>\n",
       "      <td>24450</td>\n",
       "      <td>0.0218</td>\n",
       "    </tr>\n",
       "    <tr>\n",
       "      <th>...</th>\n",
       "      <td>...</td>\n",
       "      <td>...</td>\n",
       "      <td>...</td>\n",
       "      <td>...</td>\n",
       "      <td>...</td>\n",
       "      <td>...</td>\n",
       "      <td>...</td>\n",
       "      <td>...</td>\n",
       "      <td>...</td>\n",
       "      <td>...</td>\n",
       "    </tr>\n",
       "    <tr>\n",
       "      <th>1989</th>\n",
       "      <td>2023-01-24</td>\n",
       "      <td>2440.000000</td>\n",
       "      <td>2443.649902</td>\n",
       "      <td>2387.350098</td>\n",
       "      <td>2415.949951</td>\n",
       "      <td>2415.949951</td>\n",
       "      <td>7609558.0</td>\n",
       "      <td>349349</td>\n",
       "      <td>15122</td>\n",
       "      <td>-0.0059</td>\n",
       "    </tr>\n",
       "    <tr>\n",
       "      <th>1990</th>\n",
       "      <td>2023-01-25</td>\n",
       "      <td>2412.449951</td>\n",
       "      <td>2414.699951</td>\n",
       "      <td>2380.000000</td>\n",
       "      <td>2382.550049</td>\n",
       "      <td>2382.550049</td>\n",
       "      <td>5715684.0</td>\n",
       "      <td>103914</td>\n",
       "      <td>14987</td>\n",
       "      <td>-0.0138</td>\n",
       "    </tr>\n",
       "    <tr>\n",
       "      <th>1991</th>\n",
       "      <td>2023-01-27</td>\n",
       "      <td>2384.399902</td>\n",
       "      <td>2387.350098</td>\n",
       "      <td>2311.649902</td>\n",
       "      <td>2337.350098</td>\n",
       "      <td>2337.350098</td>\n",
       "      <td>11920991.0</td>\n",
       "      <td>452582</td>\n",
       "      <td>59632</td>\n",
       "      <td>-0.0190</td>\n",
       "    </tr>\n",
       "    <tr>\n",
       "      <th>1992</th>\n",
       "      <td>2023-01-30</td>\n",
       "      <td>2331.699951</td>\n",
       "      <td>2371.899902</td>\n",
       "      <td>2301.000000</td>\n",
       "      <td>2359.750000</td>\n",
       "      <td>2359.750000</td>\n",
       "      <td>10047822.0</td>\n",
       "      <td>1392194</td>\n",
       "      <td>29192</td>\n",
       "      <td>0.0096</td>\n",
       "    </tr>\n",
       "    <tr>\n",
       "      <th>1993</th>\n",
       "      <td>2023-01-31</td>\n",
       "      <td>2382.000000</td>\n",
       "      <td>2387.650000</td>\n",
       "      <td>2341.000000</td>\n",
       "      <td>2353.850000</td>\n",
       "      <td>2353.850000</td>\n",
       "      <td>10470859.0</td>\n",
       "      <td>100296</td>\n",
       "      <td>10412</td>\n",
       "      <td>-0.0025</td>\n",
       "    </tr>\n",
       "  </tbody>\n",
       "</table>\n",
       "<p>1994 rows × 10 columns</p>\n",
       "</div>"
      ],
      "text/plain": [
       "           Date         Open         High          Low        Close  \\\n",
       "0    2015-01-01   438.988831   441.812073   437.676270   439.781311   \n",
       "1    2015-01-02   439.880371   443.818054   437.998199   438.617340   \n",
       "2    2015-01-05   438.344940   441.267212   432.946106   433.812897   \n",
       "3    2015-01-06   430.915344   432.401276   412.093750   414.124512   \n",
       "4    2015-01-07   414.619812   425.367950   414.570282   423.139069   \n",
       "...         ...          ...          ...          ...          ...   \n",
       "1989 2023-01-24  2440.000000  2443.649902  2387.350098  2415.949951   \n",
       "1990 2023-01-25  2412.449951  2414.699951  2380.000000  2382.550049   \n",
       "1991 2023-01-27  2384.399902  2387.350098  2311.649902  2337.350098   \n",
       "1992 2023-01-30  2331.699951  2371.899902  2301.000000  2359.750000   \n",
       "1993 2023-01-31  2382.000000  2387.650000  2341.000000  2353.850000   \n",
       "\n",
       "        Adj Close      Volume  No. of Shares  No. of Trades  Change(%)  \n",
       "0      417.988892   1367720.0         181432           9740    -0.0036  \n",
       "1      416.882599   3383424.0         260835          19270    -0.0026  \n",
       "2      412.316284   4662967.0         328788          39864    -0.0110  \n",
       "3      393.603546   8596809.0         975422          26226    -0.0454  \n",
       "4      402.171295   9562421.0         660342          24450     0.0218  \n",
       "...           ...         ...            ...            ...        ...  \n",
       "1989  2415.949951   7609558.0         349349          15122    -0.0059  \n",
       "1990  2382.550049   5715684.0         103914          14987    -0.0138  \n",
       "1991  2337.350098  11920991.0         452582          59632    -0.0190  \n",
       "1992  2359.750000  10047822.0        1392194          29192     0.0096  \n",
       "1993  2353.850000  10470859.0         100296          10412    -0.0025  \n",
       "\n",
       "[1994 rows x 10 columns]"
      ]
     },
     "execution_count": 4,
     "metadata": {},
     "output_type": "execute_result"
    }
   ],
   "source": [
    "df=pd.read_excel('Reliance Daily Dataset.xlsx')\n",
    "df"
   ]
  },
  {
   "cell_type": "code",
   "execution_count": 6,
   "id": "bfcacbd5",
   "metadata": {
    "ExecuteTime": {
     "end_time": "2023-02-17T14:51:55.565779Z",
     "start_time": "2023-02-17T14:51:55.524699Z"
    }
   },
   "outputs": [
    {
     "data": {
      "text/html": [
       "<div>\n",
       "<style scoped>\n",
       "    .dataframe tbody tr th:only-of-type {\n",
       "        vertical-align: middle;\n",
       "    }\n",
       "\n",
       "    .dataframe tbody tr th {\n",
       "        vertical-align: top;\n",
       "    }\n",
       "\n",
       "    .dataframe thead th {\n",
       "        text-align: right;\n",
       "    }\n",
       "</style>\n",
       "<table border=\"1\" class=\"dataframe\">\n",
       "  <thead>\n",
       "    <tr style=\"text-align: right;\">\n",
       "      <th></th>\n",
       "      <th>Date</th>\n",
       "      <th>Open</th>\n",
       "      <th>High</th>\n",
       "      <th>Low</th>\n",
       "      <th>Close</th>\n",
       "      <th>Adj Close</th>\n",
       "      <th>Volume</th>\n",
       "      <th>No. of Shares</th>\n",
       "      <th>No. of Trades</th>\n",
       "      <th>Change(%)</th>\n",
       "    </tr>\n",
       "  </thead>\n",
       "  <tbody>\n",
       "    <tr>\n",
       "      <th>0</th>\n",
       "      <td>2015-01-01</td>\n",
       "      <td>438.988831</td>\n",
       "      <td>441.812073</td>\n",
       "      <td>437.676270</td>\n",
       "      <td>439.781311</td>\n",
       "      <td>417.988892</td>\n",
       "      <td>1367720.0</td>\n",
       "      <td>181432</td>\n",
       "      <td>9740</td>\n",
       "      <td>-0.0036</td>\n",
       "    </tr>\n",
       "    <tr>\n",
       "      <th>1</th>\n",
       "      <td>2015-01-02</td>\n",
       "      <td>439.880371</td>\n",
       "      <td>443.818054</td>\n",
       "      <td>437.998199</td>\n",
       "      <td>438.617340</td>\n",
       "      <td>416.882599</td>\n",
       "      <td>3383424.0</td>\n",
       "      <td>260835</td>\n",
       "      <td>19270</td>\n",
       "      <td>-0.0026</td>\n",
       "    </tr>\n",
       "    <tr>\n",
       "      <th>2</th>\n",
       "      <td>2015-01-05</td>\n",
       "      <td>438.344940</td>\n",
       "      <td>441.267212</td>\n",
       "      <td>432.946106</td>\n",
       "      <td>433.812897</td>\n",
       "      <td>412.316284</td>\n",
       "      <td>4662967.0</td>\n",
       "      <td>328788</td>\n",
       "      <td>39864</td>\n",
       "      <td>-0.0110</td>\n",
       "    </tr>\n",
       "    <tr>\n",
       "      <th>3</th>\n",
       "      <td>2015-01-06</td>\n",
       "      <td>430.915344</td>\n",
       "      <td>432.401276</td>\n",
       "      <td>412.093750</td>\n",
       "      <td>414.124512</td>\n",
       "      <td>393.603546</td>\n",
       "      <td>8596809.0</td>\n",
       "      <td>975422</td>\n",
       "      <td>26226</td>\n",
       "      <td>-0.0454</td>\n",
       "    </tr>\n",
       "    <tr>\n",
       "      <th>4</th>\n",
       "      <td>2015-01-07</td>\n",
       "      <td>414.619812</td>\n",
       "      <td>425.367950</td>\n",
       "      <td>414.570282</td>\n",
       "      <td>423.139069</td>\n",
       "      <td>402.171295</td>\n",
       "      <td>9562421.0</td>\n",
       "      <td>660342</td>\n",
       "      <td>24450</td>\n",
       "      <td>0.0218</td>\n",
       "    </tr>\n",
       "    <tr>\n",
       "      <th>...</th>\n",
       "      <td>...</td>\n",
       "      <td>...</td>\n",
       "      <td>...</td>\n",
       "      <td>...</td>\n",
       "      <td>...</td>\n",
       "      <td>...</td>\n",
       "      <td>...</td>\n",
       "      <td>...</td>\n",
       "      <td>...</td>\n",
       "      <td>...</td>\n",
       "    </tr>\n",
       "    <tr>\n",
       "      <th>1989</th>\n",
       "      <td>2023-01-24</td>\n",
       "      <td>2440.000000</td>\n",
       "      <td>2443.649902</td>\n",
       "      <td>2387.350098</td>\n",
       "      <td>2415.949951</td>\n",
       "      <td>2415.949951</td>\n",
       "      <td>7609558.0</td>\n",
       "      <td>349349</td>\n",
       "      <td>15122</td>\n",
       "      <td>-0.0059</td>\n",
       "    </tr>\n",
       "    <tr>\n",
       "      <th>1990</th>\n",
       "      <td>2023-01-25</td>\n",
       "      <td>2412.449951</td>\n",
       "      <td>2414.699951</td>\n",
       "      <td>2380.000000</td>\n",
       "      <td>2382.550049</td>\n",
       "      <td>2382.550049</td>\n",
       "      <td>5715684.0</td>\n",
       "      <td>103914</td>\n",
       "      <td>14987</td>\n",
       "      <td>-0.0138</td>\n",
       "    </tr>\n",
       "    <tr>\n",
       "      <th>1991</th>\n",
       "      <td>2023-01-27</td>\n",
       "      <td>2384.399902</td>\n",
       "      <td>2387.350098</td>\n",
       "      <td>2311.649902</td>\n",
       "      <td>2337.350098</td>\n",
       "      <td>2337.350098</td>\n",
       "      <td>11920991.0</td>\n",
       "      <td>452582</td>\n",
       "      <td>59632</td>\n",
       "      <td>-0.0190</td>\n",
       "    </tr>\n",
       "    <tr>\n",
       "      <th>1992</th>\n",
       "      <td>2023-01-30</td>\n",
       "      <td>2331.699951</td>\n",
       "      <td>2371.899902</td>\n",
       "      <td>2301.000000</td>\n",
       "      <td>2359.750000</td>\n",
       "      <td>2359.750000</td>\n",
       "      <td>10047822.0</td>\n",
       "      <td>1392194</td>\n",
       "      <td>29192</td>\n",
       "      <td>0.0096</td>\n",
       "    </tr>\n",
       "    <tr>\n",
       "      <th>1993</th>\n",
       "      <td>2023-01-31</td>\n",
       "      <td>2382.000000</td>\n",
       "      <td>2387.650000</td>\n",
       "      <td>2341.000000</td>\n",
       "      <td>2353.850000</td>\n",
       "      <td>2353.850000</td>\n",
       "      <td>10470859.0</td>\n",
       "      <td>100296</td>\n",
       "      <td>10412</td>\n",
       "      <td>-0.0025</td>\n",
       "    </tr>\n",
       "  </tbody>\n",
       "</table>\n",
       "<p>1994 rows × 10 columns</p>\n",
       "</div>"
      ],
      "text/plain": [
       "           Date         Open         High          Low        Close  \\\n",
       "0    2015-01-01   438.988831   441.812073   437.676270   439.781311   \n",
       "1    2015-01-02   439.880371   443.818054   437.998199   438.617340   \n",
       "2    2015-01-05   438.344940   441.267212   432.946106   433.812897   \n",
       "3    2015-01-06   430.915344   432.401276   412.093750   414.124512   \n",
       "4    2015-01-07   414.619812   425.367950   414.570282   423.139069   \n",
       "...         ...          ...          ...          ...          ...   \n",
       "1989 2023-01-24  2440.000000  2443.649902  2387.350098  2415.949951   \n",
       "1990 2023-01-25  2412.449951  2414.699951  2380.000000  2382.550049   \n",
       "1991 2023-01-27  2384.399902  2387.350098  2311.649902  2337.350098   \n",
       "1992 2023-01-30  2331.699951  2371.899902  2301.000000  2359.750000   \n",
       "1993 2023-01-31  2382.000000  2387.650000  2341.000000  2353.850000   \n",
       "\n",
       "        Adj Close      Volume  No. of Shares  No. of Trades  Change(%)  \n",
       "0      417.988892   1367720.0         181432           9740    -0.0036  \n",
       "1      416.882599   3383424.0         260835          19270    -0.0026  \n",
       "2      412.316284   4662967.0         328788          39864    -0.0110  \n",
       "3      393.603546   8596809.0         975422          26226    -0.0454  \n",
       "4      402.171295   9562421.0         660342          24450     0.0218  \n",
       "...           ...         ...            ...            ...        ...  \n",
       "1989  2415.949951   7609558.0         349349          15122    -0.0059  \n",
       "1990  2382.550049   5715684.0         103914          14987    -0.0138  \n",
       "1991  2337.350098  11920991.0         452582          59632    -0.0190  \n",
       "1992  2359.750000  10047822.0        1392194          29192     0.0096  \n",
       "1993  2353.850000  10470859.0         100296          10412    -0.0025  \n",
       "\n",
       "[1994 rows x 10 columns]"
      ]
     },
     "execution_count": 6,
     "metadata": {},
     "output_type": "execute_result"
    }
   ],
   "source": [
    "start='2015-01-01'\n",
    "end='2022/12/30'\n",
    "df"
   ]
  },
  {
   "cell_type": "code",
   "execution_count": 55,
   "id": "3e5aceee",
   "metadata": {
    "ExecuteTime": {
     "end_time": "2023-02-17T16:15:55.877670Z",
     "start_time": "2023-02-17T16:15:55.860678Z"
    }
   },
   "outputs": [
    {
     "data": {
      "text/plain": [
       "Index(['Open', 'High', 'Low', 'Close', 'Volume', 'No. of Shares',\n",
       "       'No. of Trades', 'Change(%)', 'open-close', 'low-high', 'target'],\n",
       "      dtype='object')"
      ]
     },
     "execution_count": 55,
     "metadata": {},
     "output_type": "execute_result"
    }
   ],
   "source": [
    "df.columns"
   ]
  },
  {
   "cell_type": "code",
   "execution_count": 7,
   "id": "375e9117",
   "metadata": {
    "ExecuteTime": {
     "end_time": "2023-02-17T14:55:47.309410Z",
     "start_time": "2023-02-17T14:55:47.271452Z"
    }
   },
   "outputs": [
    {
     "data": {
      "text/html": [
       "<div>\n",
       "<style scoped>\n",
       "    .dataframe tbody tr th:only-of-type {\n",
       "        vertical-align: middle;\n",
       "    }\n",
       "\n",
       "    .dataframe tbody tr th {\n",
       "        vertical-align: top;\n",
       "    }\n",
       "\n",
       "    .dataframe thead th {\n",
       "        text-align: right;\n",
       "    }\n",
       "</style>\n",
       "<table border=\"1\" class=\"dataframe\">\n",
       "  <thead>\n",
       "    <tr style=\"text-align: right;\">\n",
       "      <th></th>\n",
       "      <th>Date</th>\n",
       "      <th>Open</th>\n",
       "      <th>High</th>\n",
       "      <th>Low</th>\n",
       "      <th>Close</th>\n",
       "      <th>Adj Close</th>\n",
       "      <th>Volume</th>\n",
       "      <th>No. of Shares</th>\n",
       "      <th>No. of Trades</th>\n",
       "      <th>Change(%)</th>\n",
       "    </tr>\n",
       "  </thead>\n",
       "  <tbody>\n",
       "    <tr>\n",
       "      <th>0</th>\n",
       "      <td>2015-01-01</td>\n",
       "      <td>438.988831</td>\n",
       "      <td>441.812073</td>\n",
       "      <td>437.676270</td>\n",
       "      <td>439.781311</td>\n",
       "      <td>417.988892</td>\n",
       "      <td>1367720.0</td>\n",
       "      <td>181432</td>\n",
       "      <td>9740</td>\n",
       "      <td>-0.0036</td>\n",
       "    </tr>\n",
       "    <tr>\n",
       "      <th>1</th>\n",
       "      <td>2015-01-02</td>\n",
       "      <td>439.880371</td>\n",
       "      <td>443.818054</td>\n",
       "      <td>437.998199</td>\n",
       "      <td>438.617340</td>\n",
       "      <td>416.882599</td>\n",
       "      <td>3383424.0</td>\n",
       "      <td>260835</td>\n",
       "      <td>19270</td>\n",
       "      <td>-0.0026</td>\n",
       "    </tr>\n",
       "    <tr>\n",
       "      <th>2</th>\n",
       "      <td>2015-01-05</td>\n",
       "      <td>438.344940</td>\n",
       "      <td>441.267212</td>\n",
       "      <td>432.946106</td>\n",
       "      <td>433.812897</td>\n",
       "      <td>412.316284</td>\n",
       "      <td>4662967.0</td>\n",
       "      <td>328788</td>\n",
       "      <td>39864</td>\n",
       "      <td>-0.0110</td>\n",
       "    </tr>\n",
       "    <tr>\n",
       "      <th>3</th>\n",
       "      <td>2015-01-06</td>\n",
       "      <td>430.915344</td>\n",
       "      <td>432.401276</td>\n",
       "      <td>412.093750</td>\n",
       "      <td>414.124512</td>\n",
       "      <td>393.603546</td>\n",
       "      <td>8596809.0</td>\n",
       "      <td>975422</td>\n",
       "      <td>26226</td>\n",
       "      <td>-0.0454</td>\n",
       "    </tr>\n",
       "    <tr>\n",
       "      <th>4</th>\n",
       "      <td>2015-01-07</td>\n",
       "      <td>414.619812</td>\n",
       "      <td>425.367950</td>\n",
       "      <td>414.570282</td>\n",
       "      <td>423.139069</td>\n",
       "      <td>402.171295</td>\n",
       "      <td>9562421.0</td>\n",
       "      <td>660342</td>\n",
       "      <td>24450</td>\n",
       "      <td>0.0218</td>\n",
       "    </tr>\n",
       "  </tbody>\n",
       "</table>\n",
       "</div>"
      ],
      "text/plain": [
       "        Date        Open        High         Low       Close   Adj Close  \\\n",
       "0 2015-01-01  438.988831  441.812073  437.676270  439.781311  417.988892   \n",
       "1 2015-01-02  439.880371  443.818054  437.998199  438.617340  416.882599   \n",
       "2 2015-01-05  438.344940  441.267212  432.946106  433.812897  412.316284   \n",
       "3 2015-01-06  430.915344  432.401276  412.093750  414.124512  393.603546   \n",
       "4 2015-01-07  414.619812  425.367950  414.570282  423.139069  402.171295   \n",
       "\n",
       "      Volume  No. of Shares  No. of Trades  Change(%)  \n",
       "0  1367720.0         181432           9740    -0.0036  \n",
       "1  3383424.0         260835          19270    -0.0026  \n",
       "2  4662967.0         328788          39864    -0.0110  \n",
       "3  8596809.0         975422          26226    -0.0454  \n",
       "4  9562421.0         660342          24450     0.0218  "
      ]
     },
     "execution_count": 7,
     "metadata": {},
     "output_type": "execute_result"
    }
   ],
   "source": [
    "df.head()"
   ]
  },
  {
   "cell_type": "code",
   "execution_count": 8,
   "id": "59e3800b",
   "metadata": {
    "ExecuteTime": {
     "end_time": "2023-02-17T14:55:53.711790Z",
     "start_time": "2023-02-17T14:55:53.678831Z"
    }
   },
   "outputs": [
    {
     "data": {
      "text/html": [
       "<div>\n",
       "<style scoped>\n",
       "    .dataframe tbody tr th:only-of-type {\n",
       "        vertical-align: middle;\n",
       "    }\n",
       "\n",
       "    .dataframe tbody tr th {\n",
       "        vertical-align: top;\n",
       "    }\n",
       "\n",
       "    .dataframe thead th {\n",
       "        text-align: right;\n",
       "    }\n",
       "</style>\n",
       "<table border=\"1\" class=\"dataframe\">\n",
       "  <thead>\n",
       "    <tr style=\"text-align: right;\">\n",
       "      <th></th>\n",
       "      <th>Date</th>\n",
       "      <th>Open</th>\n",
       "      <th>High</th>\n",
       "      <th>Low</th>\n",
       "      <th>Close</th>\n",
       "      <th>Adj Close</th>\n",
       "      <th>Volume</th>\n",
       "      <th>No. of Shares</th>\n",
       "      <th>No. of Trades</th>\n",
       "      <th>Change(%)</th>\n",
       "    </tr>\n",
       "  </thead>\n",
       "  <tbody>\n",
       "    <tr>\n",
       "      <th>1989</th>\n",
       "      <td>2023-01-24</td>\n",
       "      <td>2440.000000</td>\n",
       "      <td>2443.649902</td>\n",
       "      <td>2387.350098</td>\n",
       "      <td>2415.949951</td>\n",
       "      <td>2415.949951</td>\n",
       "      <td>7609558.0</td>\n",
       "      <td>349349</td>\n",
       "      <td>15122</td>\n",
       "      <td>-0.0059</td>\n",
       "    </tr>\n",
       "    <tr>\n",
       "      <th>1990</th>\n",
       "      <td>2023-01-25</td>\n",
       "      <td>2412.449951</td>\n",
       "      <td>2414.699951</td>\n",
       "      <td>2380.000000</td>\n",
       "      <td>2382.550049</td>\n",
       "      <td>2382.550049</td>\n",
       "      <td>5715684.0</td>\n",
       "      <td>103914</td>\n",
       "      <td>14987</td>\n",
       "      <td>-0.0138</td>\n",
       "    </tr>\n",
       "    <tr>\n",
       "      <th>1991</th>\n",
       "      <td>2023-01-27</td>\n",
       "      <td>2384.399902</td>\n",
       "      <td>2387.350098</td>\n",
       "      <td>2311.649902</td>\n",
       "      <td>2337.350098</td>\n",
       "      <td>2337.350098</td>\n",
       "      <td>11920991.0</td>\n",
       "      <td>452582</td>\n",
       "      <td>59632</td>\n",
       "      <td>-0.0190</td>\n",
       "    </tr>\n",
       "    <tr>\n",
       "      <th>1992</th>\n",
       "      <td>2023-01-30</td>\n",
       "      <td>2331.699951</td>\n",
       "      <td>2371.899902</td>\n",
       "      <td>2301.000000</td>\n",
       "      <td>2359.750000</td>\n",
       "      <td>2359.750000</td>\n",
       "      <td>10047822.0</td>\n",
       "      <td>1392194</td>\n",
       "      <td>29192</td>\n",
       "      <td>0.0096</td>\n",
       "    </tr>\n",
       "    <tr>\n",
       "      <th>1993</th>\n",
       "      <td>2023-01-31</td>\n",
       "      <td>2382.000000</td>\n",
       "      <td>2387.650000</td>\n",
       "      <td>2341.000000</td>\n",
       "      <td>2353.850000</td>\n",
       "      <td>2353.850000</td>\n",
       "      <td>10470859.0</td>\n",
       "      <td>100296</td>\n",
       "      <td>10412</td>\n",
       "      <td>-0.0025</td>\n",
       "    </tr>\n",
       "  </tbody>\n",
       "</table>\n",
       "</div>"
      ],
      "text/plain": [
       "           Date         Open         High          Low        Close  \\\n",
       "1989 2023-01-24  2440.000000  2443.649902  2387.350098  2415.949951   \n",
       "1990 2023-01-25  2412.449951  2414.699951  2380.000000  2382.550049   \n",
       "1991 2023-01-27  2384.399902  2387.350098  2311.649902  2337.350098   \n",
       "1992 2023-01-30  2331.699951  2371.899902  2301.000000  2359.750000   \n",
       "1993 2023-01-31  2382.000000  2387.650000  2341.000000  2353.850000   \n",
       "\n",
       "        Adj Close      Volume  No. of Shares  No. of Trades  Change(%)  \n",
       "1989  2415.949951   7609558.0         349349          15122    -0.0059  \n",
       "1990  2382.550049   5715684.0         103914          14987    -0.0138  \n",
       "1991  2337.350098  11920991.0         452582          59632    -0.0190  \n",
       "1992  2359.750000  10047822.0        1392194          29192     0.0096  \n",
       "1993  2353.850000  10470859.0         100296          10412    -0.0025  "
      ]
     },
     "execution_count": 8,
     "metadata": {},
     "output_type": "execute_result"
    }
   ],
   "source": [
    "df.tail()"
   ]
  },
  {
   "cell_type": "code",
   "execution_count": 13,
   "id": "9fea7a40",
   "metadata": {
    "ExecuteTime": {
     "end_time": "2023-02-17T14:57:50.550967Z",
     "start_time": "2023-02-17T14:57:50.387617Z"
    }
   },
   "outputs": [
    {
     "name": "stdout",
     "output_type": "stream",
     "text": [
      "<class 'pandas.core.frame.DataFrame'>\n",
      "RangeIndex: 1994 entries, 0 to 1993\n",
      "Data columns (total 10 columns):\n",
      " #   Column         Non-Null Count  Dtype         \n",
      "---  ------         --------------  -----         \n",
      " 0   Date           1994 non-null   datetime64[ns]\n",
      " 1   Open           1993 non-null   float64       \n",
      " 2   High           1993 non-null   float64       \n",
      " 3   Low            1993 non-null   float64       \n",
      " 4   Close          1993 non-null   float64       \n",
      " 5   Adj Close      1993 non-null   float64       \n",
      " 6   Volume         1993 non-null   float64       \n",
      " 7   No. of Shares  1994 non-null   int64         \n",
      " 8   No. of Trades  1994 non-null   int64         \n",
      " 9   Change(%)      1994 non-null   float64       \n",
      "dtypes: datetime64[ns](1), float64(7), int64(2)\n",
      "memory usage: 155.9 KB\n"
     ]
    }
   ],
   "source": [
    "df.info()"
   ]
  },
  {
   "cell_type": "code",
   "execution_count": 10,
   "id": "424e2b3a",
   "metadata": {
    "ExecuteTime": {
     "end_time": "2023-02-17T14:56:38.876213Z",
     "start_time": "2023-02-17T14:56:38.863224Z"
    }
   },
   "outputs": [
    {
     "data": {
      "text/plain": [
       "(1994, 10)"
      ]
     },
     "execution_count": 10,
     "metadata": {},
     "output_type": "execute_result"
    }
   ],
   "source": [
    "df.shape"
   ]
  },
  {
   "cell_type": "code",
   "execution_count": 11,
   "id": "0880c209",
   "metadata": {
    "ExecuteTime": {
     "end_time": "2023-02-17T14:57:28.055529Z",
     "start_time": "2023-02-17T14:57:27.951755Z"
    }
   },
   "outputs": [
    {
     "data": {
      "text/html": [
       "<div>\n",
       "<style scoped>\n",
       "    .dataframe tbody tr th:only-of-type {\n",
       "        vertical-align: middle;\n",
       "    }\n",
       "\n",
       "    .dataframe tbody tr th {\n",
       "        vertical-align: top;\n",
       "    }\n",
       "\n",
       "    .dataframe thead th {\n",
       "        text-align: right;\n",
       "    }\n",
       "</style>\n",
       "<table border=\"1\" class=\"dataframe\">\n",
       "  <thead>\n",
       "    <tr style=\"text-align: right;\">\n",
       "      <th></th>\n",
       "      <th>Open</th>\n",
       "      <th>High</th>\n",
       "      <th>Low</th>\n",
       "      <th>Close</th>\n",
       "      <th>Adj Close</th>\n",
       "      <th>Volume</th>\n",
       "      <th>No. of Shares</th>\n",
       "      <th>No. of Trades</th>\n",
       "      <th>Change(%)</th>\n",
       "    </tr>\n",
       "  </thead>\n",
       "  <tbody>\n",
       "    <tr>\n",
       "      <th>count</th>\n",
       "      <td>1993.000000</td>\n",
       "      <td>1993.000000</td>\n",
       "      <td>1993.000000</td>\n",
       "      <td>1993.000000</td>\n",
       "      <td>1993.000000</td>\n",
       "      <td>1.993000e+03</td>\n",
       "      <td>1.994000e+03</td>\n",
       "      <td>1994.000000</td>\n",
       "      <td>1994.000000</td>\n",
       "    </tr>\n",
       "    <tr>\n",
       "      <th>mean</th>\n",
       "      <td>1325.408942</td>\n",
       "      <td>1340.337026</td>\n",
       "      <td>1309.627319</td>\n",
       "      <td>1324.338416</td>\n",
       "      <td>1310.028971</td>\n",
       "      <td>9.065886e+06</td>\n",
       "      <td>1.208584e+06</td>\n",
       "      <td>15963.536610</td>\n",
       "      <td>0.001005</td>\n",
       "    </tr>\n",
       "    <tr>\n",
       "      <th>std</th>\n",
       "      <td>756.093558</td>\n",
       "      <td>764.161654</td>\n",
       "      <td>747.138000</td>\n",
       "      <td>755.248519</td>\n",
       "      <td>759.572609</td>\n",
       "      <td>6.673385e+06</td>\n",
       "      <td>1.556644e+07</td>\n",
       "      <td>13699.099477</td>\n",
       "      <td>0.018416</td>\n",
       "    </tr>\n",
       "    <tr>\n",
       "      <th>min</th>\n",
       "      <td>404.466064</td>\n",
       "      <td>405.010895</td>\n",
       "      <td>394.485657</td>\n",
       "      <td>401.568542</td>\n",
       "      <td>381.669708</td>\n",
       "      <td>7.871600e+05</td>\n",
       "      <td>4.245200e+04</td>\n",
       "      <td>2476.000000</td>\n",
       "      <td>-0.131500</td>\n",
       "    </tr>\n",
       "    <tr>\n",
       "      <th>25%</th>\n",
       "      <td>532.056641</td>\n",
       "      <td>538.891846</td>\n",
       "      <td>528.143738</td>\n",
       "      <td>532.725281</td>\n",
       "      <td>517.503967</td>\n",
       "      <td>5.241641e+06</td>\n",
       "      <td>2.364888e+05</td>\n",
       "      <td>7634.000000</td>\n",
       "      <td>-0.009100</td>\n",
       "    </tr>\n",
       "    <tr>\n",
       "      <th>50%</th>\n",
       "      <td>1183.679932</td>\n",
       "      <td>1203.591187</td>\n",
       "      <td>1165.947998</td>\n",
       "      <td>1181.401489</td>\n",
       "      <td>1166.302734</td>\n",
       "      <td>7.126831e+06</td>\n",
       "      <td>3.553470e+05</td>\n",
       "      <td>11815.500000</td>\n",
       "      <td>0.000700</td>\n",
       "    </tr>\n",
       "    <tr>\n",
       "      <th>75%</th>\n",
       "      <td>2061.949951</td>\n",
       "      <td>2089.800049</td>\n",
       "      <td>2035.000000</td>\n",
       "      <td>2057.800049</td>\n",
       "      <td>2047.086792</td>\n",
       "      <td>1.022708e+07</td>\n",
       "      <td>5.781165e+05</td>\n",
       "      <td>19149.250000</td>\n",
       "      <td>0.010800</td>\n",
       "    </tr>\n",
       "    <tr>\n",
       "      <th>max</th>\n",
       "      <td>2856.149902</td>\n",
       "      <td>2856.149902</td>\n",
       "      <td>2786.100098</td>\n",
       "      <td>2819.850098</td>\n",
       "      <td>2811.385742</td>\n",
       "      <td>6.584835e+07</td>\n",
       "      <td>3.973114e+08</td>\n",
       "      <td>113895.000000</td>\n",
       "      <td>0.147200</td>\n",
       "    </tr>\n",
       "  </tbody>\n",
       "</table>\n",
       "</div>"
      ],
      "text/plain": [
       "              Open         High          Low        Close    Adj Close  \\\n",
       "count  1993.000000  1993.000000  1993.000000  1993.000000  1993.000000   \n",
       "mean   1325.408942  1340.337026  1309.627319  1324.338416  1310.028971   \n",
       "std     756.093558   764.161654   747.138000   755.248519   759.572609   \n",
       "min     404.466064   405.010895   394.485657   401.568542   381.669708   \n",
       "25%     532.056641   538.891846   528.143738   532.725281   517.503967   \n",
       "50%    1183.679932  1203.591187  1165.947998  1181.401489  1166.302734   \n",
       "75%    2061.949951  2089.800049  2035.000000  2057.800049  2047.086792   \n",
       "max    2856.149902  2856.149902  2786.100098  2819.850098  2811.385742   \n",
       "\n",
       "             Volume  No. of Shares  No. of Trades    Change(%)  \n",
       "count  1.993000e+03   1.994000e+03    1994.000000  1994.000000  \n",
       "mean   9.065886e+06   1.208584e+06   15963.536610     0.001005  \n",
       "std    6.673385e+06   1.556644e+07   13699.099477     0.018416  \n",
       "min    7.871600e+05   4.245200e+04    2476.000000    -0.131500  \n",
       "25%    5.241641e+06   2.364888e+05    7634.000000    -0.009100  \n",
       "50%    7.126831e+06   3.553470e+05   11815.500000     0.000700  \n",
       "75%    1.022708e+07   5.781165e+05   19149.250000     0.010800  \n",
       "max    6.584835e+07   3.973114e+08  113895.000000     0.147200  "
      ]
     },
     "execution_count": 11,
     "metadata": {},
     "output_type": "execute_result"
    }
   ],
   "source": [
    "df.describe()"
   ]
  },
  {
   "cell_type": "code",
   "execution_count": 15,
   "id": "e72b77ad",
   "metadata": {
    "ExecuteTime": {
     "end_time": "2023-02-17T15:09:28.356547Z",
     "start_time": "2023-02-17T15:09:28.145742Z"
    }
   },
   "outputs": [
    {
     "data": {
      "image/png": "[encoded data removed]",
      "text/plain": [
       "<Figure size 1200x400 with 1 Axes>"
      ]
     },
     "metadata": {},
     "output_type": "display_data"
    }
   ],
   "source": [
    "plt.figure(figsize=(12,4))\n",
    "plt.plot(df['Close'])\n",
    "plt.title('prices',fontsize=18)\n",
    "plt.ylabel('dollars')\n",
    "plt.show()"
   ]
  },
  {
   "cell_type": "code",
   "execution_count": 18,
   "id": "7a126085",
   "metadata": {
    "ExecuteTime": {
     "end_time": "2023-02-17T15:15:48.452860Z",
     "start_time": "2023-02-17T15:15:48.438873Z"
    }
   },
   "outputs": [
    {
     "data": {
      "text/plain": [
       "Date             0\n",
       "Open             1\n",
       "High             1\n",
       "Low              1\n",
       "Close            1\n",
       "Adj Close        1\n",
       "Volume           1\n",
       "No. of Shares    0\n",
       "No. of Trades    0\n",
       "Change(%)        0\n",
       "dtype: int64"
      ]
     },
     "execution_count": 18,
     "metadata": {},
     "output_type": "execute_result"
    }
   ],
   "source": [
    "df.isnull().sum()"
   ]
  },
  {
   "cell_type": "code",
   "execution_count": 19,
   "id": "91a667c7",
   "metadata": {
    "ExecuteTime": {
     "end_time": "2023-02-17T15:16:36.849361Z",
     "start_time": "2023-02-17T15:16:36.807390Z"
    }
   },
   "outputs": [
    {
     "data": {
      "text/html": [
       "<div>\n",
       "<style scoped>\n",
       "    .dataframe tbody tr th:only-of-type {\n",
       "        vertical-align: middle;\n",
       "    }\n",
       "\n",
       "    .dataframe tbody tr th {\n",
       "        vertical-align: top;\n",
       "    }\n",
       "\n",
       "    .dataframe thead th {\n",
       "        text-align: right;\n",
       "    }\n",
       "</style>\n",
       "<table border=\"1\" class=\"dataframe\">\n",
       "  <thead>\n",
       "    <tr style=\"text-align: right;\">\n",
       "      <th></th>\n",
       "      <th>Date</th>\n",
       "      <th>Open</th>\n",
       "      <th>High</th>\n",
       "      <th>Low</th>\n",
       "      <th>Close</th>\n",
       "      <th>Adj Close</th>\n",
       "      <th>Volume</th>\n",
       "      <th>No. of Shares</th>\n",
       "      <th>No. of Trades</th>\n",
       "      <th>Change(%)</th>\n",
       "    </tr>\n",
       "  </thead>\n",
       "  <tbody>\n",
       "    <tr>\n",
       "      <th>2</th>\n",
       "      <td>2015-01-05</td>\n",
       "      <td>438.344940</td>\n",
       "      <td>441.267212</td>\n",
       "      <td>432.946106</td>\n",
       "      <td>433.812897</td>\n",
       "      <td>412.316284</td>\n",
       "      <td>4662967.0</td>\n",
       "      <td>328788</td>\n",
       "      <td>39864</td>\n",
       "      <td>-0.0110</td>\n",
       "    </tr>\n",
       "    <tr>\n",
       "      <th>3</th>\n",
       "      <td>2015-01-06</td>\n",
       "      <td>430.915344</td>\n",
       "      <td>432.401276</td>\n",
       "      <td>412.093750</td>\n",
       "      <td>414.124512</td>\n",
       "      <td>393.603546</td>\n",
       "      <td>8596809.0</td>\n",
       "      <td>975422</td>\n",
       "      <td>26226</td>\n",
       "      <td>-0.0454</td>\n",
       "    </tr>\n",
       "    <tr>\n",
       "      <th>4</th>\n",
       "      <td>2015-01-07</td>\n",
       "      <td>414.619812</td>\n",
       "      <td>425.367950</td>\n",
       "      <td>414.570282</td>\n",
       "      <td>423.139069</td>\n",
       "      <td>402.171295</td>\n",
       "      <td>9562421.0</td>\n",
       "      <td>660342</td>\n",
       "      <td>24450</td>\n",
       "      <td>0.0218</td>\n",
       "    </tr>\n",
       "    <tr>\n",
       "      <th>5</th>\n",
       "      <td>2015-01-08</td>\n",
       "      <td>426.011841</td>\n",
       "      <td>427.398682</td>\n",
       "      <td>416.130493</td>\n",
       "      <td>417.071564</td>\n",
       "      <td>396.404510</td>\n",
       "      <td>9171029.0</td>\n",
       "      <td>787134</td>\n",
       "      <td>20043</td>\n",
       "      <td>-0.0143</td>\n",
       "    </tr>\n",
       "    <tr>\n",
       "      <th>6</th>\n",
       "      <td>2015-01-09</td>\n",
       "      <td>420.216766</td>\n",
       "      <td>426.952911</td>\n",
       "      <td>418.532715</td>\n",
       "      <td>426.110901</td>\n",
       "      <td>404.995911</td>\n",
       "      <td>6180769.0</td>\n",
       "      <td>510671</td>\n",
       "      <td>16807</td>\n",
       "      <td>0.0217</td>\n",
       "    </tr>\n",
       "    <tr>\n",
       "      <th>7</th>\n",
       "      <td>2015-01-12</td>\n",
       "      <td>426.209961</td>\n",
       "      <td>426.457611</td>\n",
       "      <td>416.848694</td>\n",
       "      <td>421.157837</td>\n",
       "      <td>400.288269</td>\n",
       "      <td>4661200.0</td>\n",
       "      <td>503008</td>\n",
       "      <td>12635</td>\n",
       "      <td>-0.0116</td>\n",
       "    </tr>\n",
       "    <tr>\n",
       "      <th>8</th>\n",
       "      <td>2015-01-13</td>\n",
       "      <td>422.495178</td>\n",
       "      <td>423.460999</td>\n",
       "      <td>416.303864</td>\n",
       "      <td>417.616425</td>\n",
       "      <td>396.922363</td>\n",
       "      <td>4591328.0</td>\n",
       "      <td>426946</td>\n",
       "      <td>17722</td>\n",
       "      <td>-0.0084</td>\n",
       "    </tr>\n",
       "    <tr>\n",
       "      <th>9</th>\n",
       "      <td>2015-01-14</td>\n",
       "      <td>417.542114</td>\n",
       "      <td>419.523346</td>\n",
       "      <td>411.697510</td>\n",
       "      <td>413.554901</td>\n",
       "      <td>393.062103</td>\n",
       "      <td>5251887.0</td>\n",
       "      <td>669183</td>\n",
       "      <td>22637</td>\n",
       "      <td>-0.0097</td>\n",
       "    </tr>\n",
       "    <tr>\n",
       "      <th>10</th>\n",
       "      <td>2015-01-15</td>\n",
       "      <td>416.056213</td>\n",
       "      <td>431.460175</td>\n",
       "      <td>416.056213</td>\n",
       "      <td>428.067352</td>\n",
       "      <td>406.855377</td>\n",
       "      <td>7811847.0</td>\n",
       "      <td>574183</td>\n",
       "      <td>18515</td>\n",
       "      <td>0.0351</td>\n",
       "    </tr>\n",
       "    <tr>\n",
       "      <th>11</th>\n",
       "      <td>2015-01-16</td>\n",
       "      <td>425.962311</td>\n",
       "      <td>433.391876</td>\n",
       "      <td>422.024628</td>\n",
       "      <td>430.766754</td>\n",
       "      <td>409.421051</td>\n",
       "      <td>8831705.0</td>\n",
       "      <td>394114</td>\n",
       "      <td>20417</td>\n",
       "      <td>0.0063</td>\n",
       "    </tr>\n",
       "    <tr>\n",
       "      <th>12</th>\n",
       "      <td>2015-01-19</td>\n",
       "      <td>431.014404</td>\n",
       "      <td>438.840240</td>\n",
       "      <td>425.343170</td>\n",
       "      <td>435.695038</td>\n",
       "      <td>414.105133</td>\n",
       "      <td>6156390.0</td>\n",
       "      <td>460462</td>\n",
       "      <td>20319</td>\n",
       "      <td>0.0114</td>\n",
       "    </tr>\n",
       "    <tr>\n",
       "      <th>13</th>\n",
       "      <td>2015-01-20</td>\n",
       "      <td>436.611359</td>\n",
       "      <td>448.523438</td>\n",
       "      <td>435.298798</td>\n",
       "      <td>447.285187</td>\n",
       "      <td>425.121002</td>\n",
       "      <td>6166247.0</td>\n",
       "      <td>397727</td>\n",
       "      <td>20303</td>\n",
       "      <td>0.0266</td>\n",
       "    </tr>\n",
       "    <tr>\n",
       "      <th>14</th>\n",
       "      <td>2015-01-21</td>\n",
       "      <td>448.251038</td>\n",
       "      <td>451.420990</td>\n",
       "      <td>441.836823</td>\n",
       "      <td>449.117798</td>\n",
       "      <td>426.862732</td>\n",
       "      <td>7884400.0</td>\n",
       "      <td>358347</td>\n",
       "      <td>16826</td>\n",
       "      <td>0.0041</td>\n",
       "    </tr>\n",
       "    <tr>\n",
       "      <th>15</th>\n",
       "      <td>2015-01-22</td>\n",
       "      <td>448.325317</td>\n",
       "      <td>449.340698</td>\n",
       "      <td>435.620758</td>\n",
       "      <td>437.725800</td>\n",
       "      <td>416.035278</td>\n",
       "      <td>10947527.0</td>\n",
       "      <td>425122</td>\n",
       "      <td>17925</td>\n",
       "      <td>-0.0254</td>\n",
       "    </tr>\n",
       "    <tr>\n",
       "      <th>16</th>\n",
       "      <td>2015-01-23</td>\n",
       "      <td>440.821442</td>\n",
       "      <td>444.684845</td>\n",
       "      <td>434.382477</td>\n",
       "      <td>439.286011</td>\n",
       "      <td>417.518158</td>\n",
       "      <td>8344145.0</td>\n",
       "      <td>405448</td>\n",
       "      <td>17768</td>\n",
       "      <td>0.0036</td>\n",
       "    </tr>\n",
       "    <tr>\n",
       "      <th>17</th>\n",
       "      <td>2015-01-27</td>\n",
       "      <td>442.257843</td>\n",
       "      <td>444.139984</td>\n",
       "      <td>436.116058</td>\n",
       "      <td>440.350922</td>\n",
       "      <td>418.530273</td>\n",
       "      <td>8279250.0</td>\n",
       "      <td>360069</td>\n",
       "      <td>19173</td>\n",
       "      <td>0.0024</td>\n",
       "    </tr>\n",
       "    <tr>\n",
       "      <th>18</th>\n",
       "      <td>2015-01-28</td>\n",
       "      <td>438.889771</td>\n",
       "      <td>450.628479</td>\n",
       "      <td>438.889771</td>\n",
       "      <td>449.167328</td>\n",
       "      <td>426.909882</td>\n",
       "      <td>8906082.0</td>\n",
       "      <td>398082</td>\n",
       "      <td>29739</td>\n",
       "      <td>0.0200</td>\n",
       "    </tr>\n",
       "    <tr>\n",
       "      <th>19</th>\n",
       "      <td>2015-01-29</td>\n",
       "      <td>449.291168</td>\n",
       "      <td>462.862518</td>\n",
       "      <td>449.192108</td>\n",
       "      <td>460.336456</td>\n",
       "      <td>437.525482</td>\n",
       "      <td>16668291.0</td>\n",
       "      <td>550069</td>\n",
       "      <td>11875</td>\n",
       "      <td>0.0249</td>\n",
       "    </tr>\n",
       "    <tr>\n",
       "      <th>20</th>\n",
       "      <td>2015-01-30</td>\n",
       "      <td>460.633667</td>\n",
       "      <td>461.252777</td>\n",
       "      <td>450.232239</td>\n",
       "      <td>453.327911</td>\n",
       "      <td>430.864227</td>\n",
       "      <td>10036145.0</td>\n",
       "      <td>242053</td>\n",
       "      <td>10538</td>\n",
       "      <td>-0.0152</td>\n",
       "    </tr>\n",
       "    <tr>\n",
       "      <th>21</th>\n",
       "      <td>2015-02-02</td>\n",
       "      <td>453.724152</td>\n",
       "      <td>455.631073</td>\n",
       "      <td>448.597748</td>\n",
       "      <td>449.761719</td>\n",
       "      <td>427.474731</td>\n",
       "      <td>8908197.0</td>\n",
       "      <td>845402</td>\n",
       "      <td>21279</td>\n",
       "      <td>-0.0079</td>\n",
       "    </tr>\n",
       "    <tr>\n",
       "      <th>22</th>\n",
       "      <td>2015-02-03</td>\n",
       "      <td>452.312531</td>\n",
       "      <td>466.007721</td>\n",
       "      <td>452.312531</td>\n",
       "      <td>464.397980</td>\n",
       "      <td>441.385803</td>\n",
       "      <td>7888109.0</td>\n",
       "      <td>432764</td>\n",
       "      <td>17033</td>\n",
       "      <td>0.0326</td>\n",
       "    </tr>\n",
       "    <tr>\n",
       "      <th>23</th>\n",
       "      <td>2015-02-04</td>\n",
       "      <td>465.140930</td>\n",
       "      <td>467.468872</td>\n",
       "      <td>458.602905</td>\n",
       "      <td>460.039276</td>\n",
       "      <td>437.243011</td>\n",
       "      <td>6494638.0</td>\n",
       "      <td>399472</td>\n",
       "      <td>15156</td>\n",
       "      <td>-0.0094</td>\n",
       "    </tr>\n",
       "    <tr>\n",
       "      <th>24</th>\n",
       "      <td>2015-02-05</td>\n",
       "      <td>463.605469</td>\n",
       "      <td>465.537170</td>\n",
       "      <td>454.491882</td>\n",
       "      <td>457.513245</td>\n",
       "      <td>434.842194</td>\n",
       "      <td>5706742.0</td>\n",
       "      <td>333040</td>\n",
       "      <td>16341</td>\n",
       "      <td>-0.0055</td>\n",
       "    </tr>\n",
       "  </tbody>\n",
       "</table>\n",
       "</div>"
      ],
      "text/plain": [
       "         Date        Open        High         Low       Close   Adj Close  \\\n",
       "2  2015-01-05  438.344940  441.267212  432.946106  433.812897  412.316284   \n",
       "3  2015-01-06  430.915344  432.401276  412.093750  414.124512  393.603546   \n",
       "4  2015-01-07  414.619812  425.367950  414.570282  423.139069  402.171295   \n",
       "5  2015-01-08  426.011841  427.398682  416.130493  417.071564  396.404510   \n",
       "6  2015-01-09  420.216766  426.952911  418.532715  426.110901  404.995911   \n",
       "7  2015-01-12  426.209961  426.457611  416.848694  421.157837  400.288269   \n",
       "8  2015-01-13  422.495178  423.460999  416.303864  417.616425  396.922363   \n",
       "9  2015-01-14  417.542114  419.523346  411.697510  413.554901  393.062103   \n",
       "10 2015-01-15  416.056213  431.460175  416.056213  428.067352  406.855377   \n",
       "11 2015-01-16  425.962311  433.391876  422.024628  430.766754  409.421051   \n",
       "12 2015-01-19  431.014404  438.840240  425.343170  435.695038  414.105133   \n",
       "13 2015-01-20  436.611359  448.523438  435.298798  447.285187  425.121002   \n",
       "14 2015-01-21  448.251038  451.420990  441.836823  449.117798  426.862732   \n",
       "15 2015-01-22  448.325317  449.340698  435.620758  437.725800  416.035278   \n",
       "16 2015-01-23  440.821442  444.684845  434.382477  439.286011  417.518158   \n",
       "17 2015-01-27  442.257843  444.139984  436.116058  440.350922  418.530273   \n",
       "18 2015-01-28  438.889771  450.628479  438.889771  449.167328  426.909882   \n",
       "19 2015-01-29  449.291168  462.862518  449.192108  460.336456  437.525482   \n",
       "20 2015-01-30  460.633667  461.252777  450.232239  453.327911  430.864227   \n",
       "21 2015-02-02  453.724152  455.631073  448.597748  449.761719  427.474731   \n",
       "22 2015-02-03  452.312531  466.007721  452.312531  464.397980  441.385803   \n",
       "23 2015-02-04  465.140930  467.468872  458.602905  460.039276  437.243011   \n",
       "24 2015-02-05  463.605469  465.537170  454.491882  457.513245  434.842194   \n",
       "\n",
       "        Volume  No. of Shares  No. of Trades  Change(%)  \n",
       "2    4662967.0         328788          39864    -0.0110  \n",
       "3    8596809.0         975422          26226    -0.0454  \n",
       "4    9562421.0         660342          24450     0.0218  \n",
       "5    9171029.0         787134          20043    -0.0143  \n",
       "6    6180769.0         510671          16807     0.0217  \n",
       "7    4661200.0         503008          12635    -0.0116  \n",
       "8    4591328.0         426946          17722    -0.0084  \n",
       "9    5251887.0         669183          22637    -0.0097  \n",
       "10   7811847.0         574183          18515     0.0351  \n",
       "11   8831705.0         394114          20417     0.0063  \n",
       "12   6156390.0         460462          20319     0.0114  \n",
       "13   6166247.0         397727          20303     0.0266  \n",
       "14   7884400.0         358347          16826     0.0041  \n",
       "15  10947527.0         425122          17925    -0.0254  \n",
       "16   8344145.0         405448          17768     0.0036  \n",
       "17   8279250.0         360069          19173     0.0024  \n",
       "18   8906082.0         398082          29739     0.0200  \n",
       "19  16668291.0         550069          11875     0.0249  \n",
       "20  10036145.0         242053          10538    -0.0152  \n",
       "21   8908197.0         845402          21279    -0.0079  \n",
       "22   7888109.0         432764          17033     0.0326  \n",
       "23   6494638.0         399472          15156    -0.0094  \n",
       "24   5706742.0         333040          16341    -0.0055  "
      ]
     },
     "execution_count": 19,
     "metadata": {},
     "output_type": "execute_result"
    }
   ],
   "source": [
    "df[2:25]"
   ]
  },
  {
   "cell_type": "code",
   "execution_count": 33,
   "id": "534c4758",
   "metadata": {
    "ExecuteTime": {
     "end_time": "2023-02-17T15:28:09.848054Z",
     "start_time": "2023-02-17T15:28:08.832509Z"
    }
   },
   "outputs": [
    {
     "data": {
      "image/png": "[encoded data removed]",
      "text/plain": [
       "<Figure size 2000x1000 with 5 Axes>"
      ]
     },
     "metadata": {},
     "output_type": "display_data"
    }
   ],
   "source": [
    "features=['Open','Close','High','Low','Volume','']\n",
    "plt.subplots(figsize=(20,10))\n",
    "for i , col in enumerate(features):\n",
    "    plt.subplot(3,4,i+1)\n",
    "    sb.distplot(df[col])\n",
    "plt.show()"
   ]
  },
  {
   "cell_type": "code",
   "execution_count": 32,
   "id": "d14c2704",
   "metadata": {
    "ExecuteTime": {
     "end_time": "2023-02-17T15:28:01.553443Z",
     "start_time": "2023-02-17T15:28:01.008974Z"
    }
   },
   "outputs": [
    {
     "data": {
      "image/png": "[encoded data removed]",
      "text/plain": [
       "<Figure size 2000x1000 with 5 Axes>"
      ]
     },
     "metadata": {},
     "output_type": "display_data"
    }
   ],
   "source": [
    "plt.subplots(figsize=(20,10))\n",
    "for i , col in enumerate(features):\n",
    "    plt.subplot(3,4,i+1)\n",
    "    sb.boxplot(df[col])\n",
    "plt.show()"
   ]
  },
  {
   "cell_type": "code",
   "execution_count": 59,
   "id": "ef483057",
   "metadata": {
    "ExecuteTime": {
     "end_time": "2023-02-17T16:26:04.996878Z",
     "start_time": "2023-02-17T16:23:39.695984Z"
    }
   },
   "outputs": [
    {
     "data": {
      "image/png": "[encoded data removed]",
      "text/plain": [
       "<Figure size 2000x1000 with 5 Axes>"
      ]
     },
     "metadata": {},
     "output_type": "display_data"
    }
   ],
   "source": [
    "# Countplots\n",
    "plt.subplots(figsize=(20,10))\n",
    "for i , col in enumerate(features):\n",
    "    plt.subplot(3,4,i+1)\n",
    "    sb.countplot(df[col])\n",
    "plt.show()"
   ]
  },
  {
   "cell_type": "code",
   "execution_count": 48,
   "id": "d11ff71a",
   "metadata": {
    "ExecuteTime": {
     "end_time": "2023-02-17T15:44:52.305413Z",
     "start_time": "2023-02-17T15:44:52.258581Z"
    }
   },
   "outputs": [],
   "source": [
    "df['open-close']=df['Open']-df['Close']\n",
    "df['low-high']=df['Low']-df['High']\n",
    "df['target']=np.where(df['Close'].shift(-1) > df['Close'],1,0)"
   ]
  },
  {
   "cell_type": "code",
   "execution_count": 49,
   "id": "528250c9",
   "metadata": {
    "ExecuteTime": {
     "end_time": "2023-02-17T15:47:34.473831Z",
     "start_time": "2023-02-17T15:47:33.961020Z"
    }
   },
   "outputs": [
    {
     "data": {
      "image/png": "[encoded data removed]",
      "text/plain": [
       "<Figure size 640x480 with 1 Axes>"
      ]
     },
     "metadata": {},
     "output_type": "display_data"
    }
   ],
   "source": [
    "plt.pie(df['target'].value_counts().values,labels=[0,1],autopct='%1.1f%%')\n",
    "plt.show()"
   ]
  },
  {
   "cell_type": "code",
   "execution_count": 51,
   "id": "6d4882de",
   "metadata": {
    "ExecuteTime": {
     "end_time": "2023-02-17T16:13:07.721632Z",
     "start_time": "2023-02-17T16:13:06.681980Z"
    }
   },
   "outputs": [
    {
     "data": {
      "image/png": "[encoded data removed]",
      "text/plain": [
       "<Figure size 1500x1500 with 2 Axes>"
      ]
     },
     "metadata": {},
     "output_type": "display_data"
    }
   ],
   "source": [
    "plt.figure(figsize=(15,15))\n",
    "sb.heatmap(df.corr()>0.5,annot=True)\n",
    "plt.show()"
   ]
  },
  {
   "cell_type": "code",
   "execution_count": 52,
   "id": "daacd137",
   "metadata": {
    "ExecuteTime": {
     "end_time": "2023-02-17T16:14:18.458609Z",
     "start_time": "2023-02-17T16:14:18.380745Z"
    }
   },
   "outputs": [
    {
     "data": {
      "text/html": [
       "<div>\n",
       "<style scoped>\n",
       "    .dataframe tbody tr th:only-of-type {\n",
       "        vertical-align: middle;\n",
       "    }\n",
       "\n",
       "    .dataframe tbody tr th {\n",
       "        vertical-align: top;\n",
       "    }\n",
       "\n",
       "    .dataframe thead th {\n",
       "        text-align: right;\n",
       "    }\n",
       "</style>\n",
       "<table border=\"1\" class=\"dataframe\">\n",
       "  <thead>\n",
       "    <tr style=\"text-align: right;\">\n",
       "      <th></th>\n",
       "      <th>Open</th>\n",
       "      <th>High</th>\n",
       "      <th>Low</th>\n",
       "      <th>Close</th>\n",
       "      <th>Volume</th>\n",
       "      <th>No. of Shares</th>\n",
       "      <th>No. of Trades</th>\n",
       "      <th>Change(%)</th>\n",
       "      <th>open-close</th>\n",
       "      <th>low-high</th>\n",
       "      <th>target</th>\n",
       "    </tr>\n",
       "  </thead>\n",
       "  <tbody>\n",
       "    <tr>\n",
       "      <th>0</th>\n",
       "      <td>438.988831</td>\n",
       "      <td>441.812073</td>\n",
       "      <td>437.676270</td>\n",
       "      <td>439.781311</td>\n",
       "      <td>1367720.0</td>\n",
       "      <td>181432</td>\n",
       "      <td>9740</td>\n",
       "      <td>-0.0036</td>\n",
       "      <td>-0.792480</td>\n",
       "      <td>-4.135803</td>\n",
       "      <td>0</td>\n",
       "    </tr>\n",
       "    <tr>\n",
       "      <th>1</th>\n",
       "      <td>439.880371</td>\n",
       "      <td>443.818054</td>\n",
       "      <td>437.998199</td>\n",
       "      <td>438.617340</td>\n",
       "      <td>3383424.0</td>\n",
       "      <td>260835</td>\n",
       "      <td>19270</td>\n",
       "      <td>-0.0026</td>\n",
       "      <td>1.263031</td>\n",
       "      <td>-5.819855</td>\n",
       "      <td>0</td>\n",
       "    </tr>\n",
       "    <tr>\n",
       "      <th>2</th>\n",
       "      <td>438.344940</td>\n",
       "      <td>441.267212</td>\n",
       "      <td>432.946106</td>\n",
       "      <td>433.812897</td>\n",
       "      <td>4662967.0</td>\n",
       "      <td>328788</td>\n",
       "      <td>39864</td>\n",
       "      <td>-0.0110</td>\n",
       "      <td>4.532043</td>\n",
       "      <td>-8.321106</td>\n",
       "      <td>0</td>\n",
       "    </tr>\n",
       "    <tr>\n",
       "      <th>3</th>\n",
       "      <td>430.915344</td>\n",
       "      <td>432.401276</td>\n",
       "      <td>412.093750</td>\n",
       "      <td>414.124512</td>\n",
       "      <td>8596809.0</td>\n",
       "      <td>975422</td>\n",
       "      <td>26226</td>\n",
       "      <td>-0.0454</td>\n",
       "      <td>16.790832</td>\n",
       "      <td>-20.307526</td>\n",
       "      <td>1</td>\n",
       "    </tr>\n",
       "    <tr>\n",
       "      <th>4</th>\n",
       "      <td>414.619812</td>\n",
       "      <td>425.367950</td>\n",
       "      <td>414.570282</td>\n",
       "      <td>423.139069</td>\n",
       "      <td>9562421.0</td>\n",
       "      <td>660342</td>\n",
       "      <td>24450</td>\n",
       "      <td>0.0218</td>\n",
       "      <td>-8.519257</td>\n",
       "      <td>-10.797668</td>\n",
       "      <td>0</td>\n",
       "    </tr>\n",
       "    <tr>\n",
       "      <th>...</th>\n",
       "      <td>...</td>\n",
       "      <td>...</td>\n",
       "      <td>...</td>\n",
       "      <td>...</td>\n",
       "      <td>...</td>\n",
       "      <td>...</td>\n",
       "      <td>...</td>\n",
       "      <td>...</td>\n",
       "      <td>...</td>\n",
       "      <td>...</td>\n",
       "      <td>...</td>\n",
       "    </tr>\n",
       "    <tr>\n",
       "      <th>1989</th>\n",
       "      <td>2440.000000</td>\n",
       "      <td>2443.649902</td>\n",
       "      <td>2387.350098</td>\n",
       "      <td>2415.949951</td>\n",
       "      <td>7609558.0</td>\n",
       "      <td>349349</td>\n",
       "      <td>15122</td>\n",
       "      <td>-0.0059</td>\n",
       "      <td>24.050049</td>\n",
       "      <td>-56.299804</td>\n",
       "      <td>0</td>\n",
       "    </tr>\n",
       "    <tr>\n",
       "      <th>1990</th>\n",
       "      <td>2412.449951</td>\n",
       "      <td>2414.699951</td>\n",
       "      <td>2380.000000</td>\n",
       "      <td>2382.550049</td>\n",
       "      <td>5715684.0</td>\n",
       "      <td>103914</td>\n",
       "      <td>14987</td>\n",
       "      <td>-0.0138</td>\n",
       "      <td>29.899902</td>\n",
       "      <td>-34.699951</td>\n",
       "      <td>0</td>\n",
       "    </tr>\n",
       "    <tr>\n",
       "      <th>1991</th>\n",
       "      <td>2384.399902</td>\n",
       "      <td>2387.350098</td>\n",
       "      <td>2311.649902</td>\n",
       "      <td>2337.350098</td>\n",
       "      <td>11920991.0</td>\n",
       "      <td>452582</td>\n",
       "      <td>59632</td>\n",
       "      <td>-0.0190</td>\n",
       "      <td>47.049804</td>\n",
       "      <td>-75.700196</td>\n",
       "      <td>1</td>\n",
       "    </tr>\n",
       "    <tr>\n",
       "      <th>1992</th>\n",
       "      <td>2331.699951</td>\n",
       "      <td>2371.899902</td>\n",
       "      <td>2301.000000</td>\n",
       "      <td>2359.750000</td>\n",
       "      <td>10047822.0</td>\n",
       "      <td>1392194</td>\n",
       "      <td>29192</td>\n",
       "      <td>0.0096</td>\n",
       "      <td>-28.050049</td>\n",
       "      <td>-70.899902</td>\n",
       "      <td>0</td>\n",
       "    </tr>\n",
       "    <tr>\n",
       "      <th>1993</th>\n",
       "      <td>2382.000000</td>\n",
       "      <td>2387.650000</td>\n",
       "      <td>2341.000000</td>\n",
       "      <td>2353.850000</td>\n",
       "      <td>10470859.0</td>\n",
       "      <td>100296</td>\n",
       "      <td>10412</td>\n",
       "      <td>-0.0025</td>\n",
       "      <td>28.150000</td>\n",
       "      <td>-46.650000</td>\n",
       "      <td>0</td>\n",
       "    </tr>\n",
       "  </tbody>\n",
       "</table>\n",
       "<p>1994 rows × 11 columns</p>\n",
       "</div>"
      ],
      "text/plain": [
       "             Open         High          Low        Close      Volume  \\\n",
       "0      438.988831   441.812073   437.676270   439.781311   1367720.0   \n",
       "1      439.880371   443.818054   437.998199   438.617340   3383424.0   \n",
       "2      438.344940   441.267212   432.946106   433.812897   4662967.0   \n",
       "3      430.915344   432.401276   412.093750   414.124512   8596809.0   \n",
       "4      414.619812   425.367950   414.570282   423.139069   9562421.0   \n",
       "...           ...          ...          ...          ...         ...   \n",
       "1989  2440.000000  2443.649902  2387.350098  2415.949951   7609558.0   \n",
       "1990  2412.449951  2414.699951  2380.000000  2382.550049   5715684.0   \n",
       "1991  2384.399902  2387.350098  2311.649902  2337.350098  11920991.0   \n",
       "1992  2331.699951  2371.899902  2301.000000  2359.750000  10047822.0   \n",
       "1993  2382.000000  2387.650000  2341.000000  2353.850000  10470859.0   \n",
       "\n",
       "      No. of Shares  No. of Trades  Change(%)  open-close   low-high  target  \n",
       "0            181432           9740    -0.0036   -0.792480  -4.135803       0  \n",
       "1            260835          19270    -0.0026    1.263031  -5.819855       0  \n",
       "2            328788          39864    -0.0110    4.532043  -8.321106       0  \n",
       "3            975422          26226    -0.0454   16.790832 -20.307526       1  \n",
       "4            660342          24450     0.0218   -8.519257 -10.797668       0  \n",
       "...             ...            ...        ...         ...        ...     ...  \n",
       "1989         349349          15122    -0.0059   24.050049 -56.299804       0  \n",
       "1990         103914          14987    -0.0138   29.899902 -34.699951       0  \n",
       "1991         452582          59632    -0.0190   47.049804 -75.700196       1  \n",
       "1992        1392194          29192     0.0096  -28.050049 -70.899902       0  \n",
       "1993         100296          10412    -0.0025   28.150000 -46.650000       0  \n",
       "\n",
       "[1994 rows x 11 columns]"
      ]
     },
     "execution_count": 52,
     "metadata": {},
     "output_type": "execute_result"
    }
   ],
   "source": [
    "df1=df.iloc[:,1:]\n",
    "df1"
   ]
  },
  {
   "cell_type": "code",
   "execution_count": 53,
   "id": "cbb4fc65",
   "metadata": {
    "ExecuteTime": {
     "end_time": "2023-02-17T16:14:41.448975Z",
     "start_time": "2023-02-17T16:14:41.435985Z"
    }
   },
   "outputs": [],
   "source": [
    "df=df1.copy()"
   ]
  },
  {
   "cell_type": "code",
   "execution_count": 54,
   "id": "20c322d2",
   "metadata": {
    "ExecuteTime": {
     "end_time": "2023-02-17T16:14:44.682332Z",
     "start_time": "2023-02-17T16:14:44.635718Z"
    }
   },
   "outputs": [
    {
     "data": {
      "text/html": [
       "<div>\n",
       "<style scoped>\n",
       "    .dataframe tbody tr th:only-of-type {\n",
       "        vertical-align: middle;\n",
       "    }\n",
       "\n",
       "    .dataframe tbody tr th {\n",
       "        vertical-align: top;\n",
       "    }\n",
       "\n",
       "    .dataframe thead th {\n",
       "        text-align: right;\n",
       "    }\n",
       "</style>\n",
       "<table border=\"1\" class=\"dataframe\">\n",
       "  <thead>\n",
       "    <tr style=\"text-align: right;\">\n",
       "      <th></th>\n",
       "      <th>Open</th>\n",
       "      <th>High</th>\n",
       "      <th>Low</th>\n",
       "      <th>Close</th>\n",
       "      <th>Volume</th>\n",
       "      <th>No. of Shares</th>\n",
       "      <th>No. of Trades</th>\n",
       "      <th>Change(%)</th>\n",
       "      <th>open-close</th>\n",
       "      <th>low-high</th>\n",
       "      <th>target</th>\n",
       "    </tr>\n",
       "  </thead>\n",
       "  <tbody>\n",
       "    <tr>\n",
       "      <th>0</th>\n",
       "      <td>438.988831</td>\n",
       "      <td>441.812073</td>\n",
       "      <td>437.676270</td>\n",
       "      <td>439.781311</td>\n",
       "      <td>1367720.0</td>\n",
       "      <td>181432</td>\n",
       "      <td>9740</td>\n",
       "      <td>-0.0036</td>\n",
       "      <td>-0.792480</td>\n",
       "      <td>-4.135803</td>\n",
       "      <td>0</td>\n",
       "    </tr>\n",
       "    <tr>\n",
       "      <th>1</th>\n",
       "      <td>439.880371</td>\n",
       "      <td>443.818054</td>\n",
       "      <td>437.998199</td>\n",
       "      <td>438.617340</td>\n",
       "      <td>3383424.0</td>\n",
       "      <td>260835</td>\n",
       "      <td>19270</td>\n",
       "      <td>-0.0026</td>\n",
       "      <td>1.263031</td>\n",
       "      <td>-5.819855</td>\n",
       "      <td>0</td>\n",
       "    </tr>\n",
       "    <tr>\n",
       "      <th>2</th>\n",
       "      <td>438.344940</td>\n",
       "      <td>441.267212</td>\n",
       "      <td>432.946106</td>\n",
       "      <td>433.812897</td>\n",
       "      <td>4662967.0</td>\n",
       "      <td>328788</td>\n",
       "      <td>39864</td>\n",
       "      <td>-0.0110</td>\n",
       "      <td>4.532043</td>\n",
       "      <td>-8.321106</td>\n",
       "      <td>0</td>\n",
       "    </tr>\n",
       "    <tr>\n",
       "      <th>3</th>\n",
       "      <td>430.915344</td>\n",
       "      <td>432.401276</td>\n",
       "      <td>412.093750</td>\n",
       "      <td>414.124512</td>\n",
       "      <td>8596809.0</td>\n",
       "      <td>975422</td>\n",
       "      <td>26226</td>\n",
       "      <td>-0.0454</td>\n",
       "      <td>16.790832</td>\n",
       "      <td>-20.307526</td>\n",
       "      <td>1</td>\n",
       "    </tr>\n",
       "    <tr>\n",
       "      <th>4</th>\n",
       "      <td>414.619812</td>\n",
       "      <td>425.367950</td>\n",
       "      <td>414.570282</td>\n",
       "      <td>423.139069</td>\n",
       "      <td>9562421.0</td>\n",
       "      <td>660342</td>\n",
       "      <td>24450</td>\n",
       "      <td>0.0218</td>\n",
       "      <td>-8.519257</td>\n",
       "      <td>-10.797668</td>\n",
       "      <td>0</td>\n",
       "    </tr>\n",
       "    <tr>\n",
       "      <th>...</th>\n",
       "      <td>...</td>\n",
       "      <td>...</td>\n",
       "      <td>...</td>\n",
       "      <td>...</td>\n",
       "      <td>...</td>\n",
       "      <td>...</td>\n",
       "      <td>...</td>\n",
       "      <td>...</td>\n",
       "      <td>...</td>\n",
       "      <td>...</td>\n",
       "      <td>...</td>\n",
       "    </tr>\n",
       "    <tr>\n",
       "      <th>1989</th>\n",
       "      <td>2440.000000</td>\n",
       "      <td>2443.649902</td>\n",
       "      <td>2387.350098</td>\n",
       "      <td>2415.949951</td>\n",
       "      <td>7609558.0</td>\n",
       "      <td>349349</td>\n",
       "      <td>15122</td>\n",
       "      <td>-0.0059</td>\n",
       "      <td>24.050049</td>\n",
       "      <td>-56.299804</td>\n",
       "      <td>0</td>\n",
       "    </tr>\n",
       "    <tr>\n",
       "      <th>1990</th>\n",
       "      <td>2412.449951</td>\n",
       "      <td>2414.699951</td>\n",
       "      <td>2380.000000</td>\n",
       "      <td>2382.550049</td>\n",
       "      <td>5715684.0</td>\n",
       "      <td>103914</td>\n",
       "      <td>14987</td>\n",
       "      <td>-0.0138</td>\n",
       "      <td>29.899902</td>\n",
       "      <td>-34.699951</td>\n",
       "      <td>0</td>\n",
       "    </tr>\n",
       "    <tr>\n",
       "      <th>1991</th>\n",
       "      <td>2384.399902</td>\n",
       "      <td>2387.350098</td>\n",
       "      <td>2311.649902</td>\n",
       "      <td>2337.350098</td>\n",
       "      <td>11920991.0</td>\n",
       "      <td>452582</td>\n",
       "      <td>59632</td>\n",
       "      <td>-0.0190</td>\n",
       "      <td>47.049804</td>\n",
       "      <td>-75.700196</td>\n",
       "      <td>1</td>\n",
       "    </tr>\n",
       "    <tr>\n",
       "      <th>1992</th>\n",
       "      <td>2331.699951</td>\n",
       "      <td>2371.899902</td>\n",
       "      <td>2301.000000</td>\n",
       "      <td>2359.750000</td>\n",
       "      <td>10047822.0</td>\n",
       "      <td>1392194</td>\n",
       "      <td>29192</td>\n",
       "      <td>0.0096</td>\n",
       "      <td>-28.050049</td>\n",
       "      <td>-70.899902</td>\n",
       "      <td>0</td>\n",
       "    </tr>\n",
       "    <tr>\n",
       "      <th>1993</th>\n",
       "      <td>2382.000000</td>\n",
       "      <td>2387.650000</td>\n",
       "      <td>2341.000000</td>\n",
       "      <td>2353.850000</td>\n",
       "      <td>10470859.0</td>\n",
       "      <td>100296</td>\n",
       "      <td>10412</td>\n",
       "      <td>-0.0025</td>\n",
       "      <td>28.150000</td>\n",
       "      <td>-46.650000</td>\n",
       "      <td>0</td>\n",
       "    </tr>\n",
       "  </tbody>\n",
       "</table>\n",
       "<p>1994 rows × 11 columns</p>\n",
       "</div>"
      ],
      "text/plain": [
       "             Open         High          Low        Close      Volume  \\\n",
       "0      438.988831   441.812073   437.676270   439.781311   1367720.0   \n",
       "1      439.880371   443.818054   437.998199   438.617340   3383424.0   \n",
       "2      438.344940   441.267212   432.946106   433.812897   4662967.0   \n",
       "3      430.915344   432.401276   412.093750   414.124512   8596809.0   \n",
       "4      414.619812   425.367950   414.570282   423.139069   9562421.0   \n",
       "...           ...          ...          ...          ...         ...   \n",
       "1989  2440.000000  2443.649902  2387.350098  2415.949951   7609558.0   \n",
       "1990  2412.449951  2414.699951  2380.000000  2382.550049   5715684.0   \n",
       "1991  2384.399902  2387.350098  2311.649902  2337.350098  11920991.0   \n",
       "1992  2331.699951  2371.899902  2301.000000  2359.750000  10047822.0   \n",
       "1993  2382.000000  2387.650000  2341.000000  2353.850000  10470859.0   \n",
       "\n",
       "      No. of Shares  No. of Trades  Change(%)  open-close   low-high  target  \n",
       "0            181432           9740    -0.0036   -0.792480  -4.135803       0  \n",
       "1            260835          19270    -0.0026    1.263031  -5.819855       0  \n",
       "2            328788          39864    -0.0110    4.532043  -8.321106       0  \n",
       "3            975422          26226    -0.0454   16.790832 -20.307526       1  \n",
       "4            660342          24450     0.0218   -8.519257 -10.797668       0  \n",
       "...             ...            ...        ...         ...        ...     ...  \n",
       "1989         349349          15122    -0.0059   24.050049 -56.299804       0  \n",
       "1990         103914          14987    -0.0138   29.899902 -34.699951       0  \n",
       "1991         452582          59632    -0.0190   47.049804 -75.700196       1  \n",
       "1992        1392194          29192     0.0096  -28.050049 -70.899902       0  \n",
       "1993         100296          10412    -0.0025   28.150000 -46.650000       0  \n",
       "\n",
       "[1994 rows x 11 columns]"
      ]
     },
     "execution_count": 54,
     "metadata": {},
     "output_type": "execute_result"
    }
   ],
   "source": [
    "df"
   ]
  },
  {
   "cell_type": "code",
   "execution_count": 57,
   "id": "fb658992",
   "metadata": {
    "ExecuteTime": {
     "end_time": "2023-02-17T16:21:06.158318Z",
     "start_time": "2023-02-17T16:21:06.114956Z"
    }
   },
   "outputs": [
    {
     "data": {
      "text/plain": [
       "<bound method DataFrame.corr of              Open         High          Low        Close      Volume  \\\n",
       "0      438.988831   441.812073   437.676270   439.781311   1367720.0   \n",
       "1      439.880371   443.818054   437.998199   438.617340   3383424.0   \n",
       "2      438.344940   441.267212   432.946106   433.812897   4662967.0   \n",
       "3      430.915344   432.401276   412.093750   414.124512   8596809.0   \n",
       "4      414.619812   425.367950   414.570282   423.139069   9562421.0   \n",
       "...           ...          ...          ...          ...         ...   \n",
       "1989  2440.000000  2443.649902  2387.350098  2415.949951   7609558.0   \n",
       "1990  2412.449951  2414.699951  2380.000000  2382.550049   5715684.0   \n",
       "1991  2384.399902  2387.350098  2311.649902  2337.350098  11920991.0   \n",
       "1992  2331.699951  2371.899902  2301.000000  2359.750000  10047822.0   \n",
       "1993  2382.000000  2387.650000  2341.000000  2353.850000  10470859.0   \n",
       "\n",
       "      No. of Shares  No. of Trades  Change(%)  open-close   low-high  target  \n",
       "0            181432           9740    -0.0036   -0.792480  -4.135803       0  \n",
       "1            260835          19270    -0.0026    1.263031  -5.819855       0  \n",
       "2            328788          39864    -0.0110    4.532043  -8.321106       0  \n",
       "3            975422          26226    -0.0454   16.790832 -20.307526       1  \n",
       "4            660342          24450     0.0218   -8.519257 -10.797668       0  \n",
       "...             ...            ...        ...         ...        ...     ...  \n",
       "1989         349349          15122    -0.0059   24.050049 -56.299804       0  \n",
       "1990         103914          14987    -0.0138   29.899902 -34.699951       0  \n",
       "1991         452582          59632    -0.0190   47.049804 -75.700196       1  \n",
       "1992        1392194          29192     0.0096  -28.050049 -70.899902       0  \n",
       "1993         100296          10412    -0.0025   28.150000 -46.650000       0  \n",
       "\n",
       "[1994 rows x 11 columns]>"
      ]
     },
     "execution_count": 57,
     "metadata": {},
     "output_type": "execute_result"
    }
   ],
   "source": [
    "df.corr()"
   ]
  },
  {
   "cell_type": "code",
   "execution_count": 62,
   "id": "ded946d5",
   "metadata": {
    "ExecuteTime": {
     "end_time": "2023-02-17T16:29:20.862004Z",
     "start_time": "2023-02-17T16:29:20.669903Z"
    }
   },
   "outputs": [
    {
     "data": {
      "text/plain": [
       "[<matplotlib.lines.Line2D at 0x13d2425d7c0>]"
      ]
     },
     "execution_count": 62,
     "metadata": {},
     "output_type": "execute_result"
    },
    {
     "data": {
      "image/png": "[encoded data removed]",
      "text/plain": [
       "<Figure size 1000x400 with 1 Axes>"
      ]
     },
     "metadata": {},
     "output_type": "display_data"
    }
   ],
   "source": [
    "plt.figure(figsize=(10,4))\n",
    "plt.plot(df['Open'],df['Close'])"
   ]
  },
  {
   "cell_type": "code",
   "execution_count": 63,
   "id": "1da80576",
   "metadata": {
    "ExecuteTime": {
     "end_time": "2023-02-17T16:30:12.170675Z",
     "start_time": "2023-02-17T16:30:11.942853Z"
    }
   },
   "outputs": [
    {
     "data": {
      "text/plain": [
       "[<matplotlib.lines.Line2D at 0x13d257ea430>]"
      ]
     },
     "execution_count": 63,
     "metadata": {},
     "output_type": "execute_result"
    },
    {
     "data": {
      "image/png": "[encoded data removed]",
      "text/plain": [
       "<Figure size 1000x400 with 1 Axes>"
      ]
     },
     "metadata": {},
     "output_type": "display_data"
    }
   ],
   "source": [
    "plt.figure(figsize=(10,4))\n",
    "plt.plot(df['High'],df['Low'])"
   ]
  },
  {
   "cell_type": "code",
   "execution_count": 64,
   "id": "eb305ade",
   "metadata": {
    "ExecuteTime": {
     "end_time": "2023-02-17T16:31:27.157274Z",
     "start_time": "2023-02-17T16:31:26.109067Z"
    }
   },
   "outputs": [
    {
     "data": {
      "text/plain": [
       "<AxesSubplot:ylabel='Frequency'>"
      ]
     },
     "execution_count": 64,
     "metadata": {},
     "output_type": "execute_result"
    },
    {
     "data": {
      "image/png": "[encoded data removed]",
      "text/plain": [
       "<Figure size 640x480 with 1 Axes>"
      ]
     },
     "metadata": {},
     "output_type": "display_data"
    }
   ],
   "source": [
    "df['Close'].plot(kind='hist')"
   ]
  },
  {
   "cell_type": "code",
   "execution_count": 66,
   "id": "5da9c740",
   "metadata": {
    "ExecuteTime": {
     "end_time": "2023-02-17T16:31:46.073267Z",
     "start_time": "2023-02-17T16:31:45.867386Z"
    }
   },
   "outputs": [
    {
     "data": {
      "text/plain": [
       "<AxesSubplot:ylabel='Frequency'>"
      ]
     },
     "execution_count": 66,
     "metadata": {},
     "output_type": "execute_result"
    },
    {
     "data": {
      "image/png": "[encoded data removed]",
      "text/plain": [
       "<Figure size 640x480 with 1 Axes>"
      ]
     },
     "metadata": {},
     "output_type": "display_data"
    }
   ],
   "source": [
    "df['Open'].plot(kind='hist')"
   ]
  },
  {
   "cell_type": "code",
   "execution_count": 67,
   "id": "2418ba65",
   "metadata": {
    "ExecuteTime": {
     "end_time": "2023-02-17T16:32:00.061495Z",
     "start_time": "2023-02-17T16:31:59.837822Z"
    }
   },
   "outputs": [
    {
     "data": {
      "text/plain": [
       "<AxesSubplot:ylabel='Frequency'>"
      ]
     },
     "execution_count": 67,
     "metadata": {},
     "output_type": "execute_result"
    },
    {
     "data": {
      "image/png": "[encoded data removed]",
      "text/plain": [
       "<Figure size 640x480 with 1 Axes>"
      ]
     },
     "metadata": {},
     "output_type": "display_data"
    }
   ],
   "source": [
    "df['High'].plot(kind='hist')"
   ]
  },
  {
   "cell_type": "code",
   "execution_count": 68,
   "id": "05d429f2",
   "metadata": {
    "ExecuteTime": {
     "end_time": "2023-02-17T16:32:14.216776Z",
     "start_time": "2023-02-17T16:32:13.986883Z"
    }
   },
   "outputs": [
    {
     "data": {
      "text/plain": [
       "<AxesSubplot:ylabel='Frequency'>"
      ]
     },
     "execution_count": 68,
     "metadata": {},
     "output_type": "execute_result"
    },
    {
     "data": {
      "image/png": "[encoded data removed]",
      "text/plain": [
       "<Figure size 640x480 with 1 Axes>"
      ]
     },
     "metadata": {},
     "output_type": "display_data"
    }
   ],
   "source": [
    "df['Low'].plot(kind='hist')"
   ]
  },
  {
   "cell_type": "code",
   "execution_count": 69,
   "id": "19d606ca",
   "metadata": {
    "ExecuteTime": {
     "end_time": "2023-02-17T16:32:36.613909Z",
     "start_time": "2023-02-17T16:32:36.383905Z"
    }
   },
   "outputs": [
    {
     "data": {
      "text/plain": [
       "<AxesSubplot:ylabel='Frequency'>"
      ]
     },
     "execution_count": 69,
     "metadata": {},
     "output_type": "execute_result"
    },
    {
     "data": {
      "image/png": "[encoded data removed]",
      "text/plain": [
       "<Figure size 640x480 with 1 Axes>"
      ]
     },
     "metadata": {},
     "output_type": "display_data"
    }
   ],
   "source": [
    "df['Volume'].plot(kind='hist')"
   ]
  },
  {
   "cell_type": "code",
   "execution_count": null,
   "id": "372804f1",
   "metadata": {},
   "outputs": [],
   "source": []
  }
 ],
 "metadata": {
  "kernelspec": {
   "display_name": "Python 3 (ipykernel)",
   "language": "python",
   "name": "python3"
  },
  "language_info": {
   "codemirror_mode": {
    "name": "ipython",
    "version": 3
   },
   "file_extension": ".py",
   "mimetype": "text/x-python",
   "name": "python",
   "nbconvert_exporter": "python",
   "pygments_lexer": "ipython3",
   "version": "3.9.13"
  }
 },
 "nbformat": 4,
 "nbformat_minor": 5
}
