{
 "cells": [
  {
   "cell_type": "code",
   "execution_count": null,
   "id": "8193b5eb",
   "metadata": {
    "id": "8193b5eb"
   },
   "outputs": [],
   "source": [
    "import pandas as  pd\n",
    "import numpy as np\n",
    "import matplotlib as mpl\n",
    "import matplotlib.pyplot as plt\n",
    "import seaborn as sns"
   ]
  },
  {
   "cell_type": "code",
   "execution_count": null,
   "id": "CCNtUBEjf1lK",
   "metadata": {
    "id": "CCNtUBEjf1lK"
   },
   "outputs": [],
   "source": [
    "from tensorflow.keras.models import Sequential\n",
    "from tensorflow.keras.layers import Dense\n",
    "from tensorflow.keras.layers import LSTM\n",
    "from tensorflow.keras.layers import Dropout\n",
    "from tensorflow.keras.layers import *\n",
    "from tensorflow.keras.callbacks import EarlyStopping\n",
    "\n",
    "from sklearn.preprocessing import MinMaxScaler, StandardScaler\n",
    "from sklearn.metrics import mean_squared_error\n",
    "from sklearn.metrics import mean_absolute_percentage_error\n",
    "from sklearn.model_selection import train_test_split\n",
    "from sklearn.model_selection import TimeSeriesSplit\n",
    "from sklearn.metrics import mean_squared_error"
   ]
  },
  {
   "cell_type": "code",
   "execution_count": null,
   "id": "YY5WBpKCo84M",
   "metadata": {
    "colab": {
     "base_uri": "https://localhost:8080/"
    },
    "id": "YY5WBpKCo84M",
    "outputId": "37c9952f-307f-4baf-c778-717aafd4012d"
   },
   "outputs": [
    {
     "data": {
      "text/plain": [
       "1612"
      ]
     },
     "execution_count": 59,
     "metadata": {},
     "output_type": "execute_result"
    }
   ],
   "source": [
    "import math\n",
    "# Create a new dataframe with only Close column\n",
    "data=reliance.filter(['Close'])\n",
    "# Convert the dataframe to a numpy array\n",
    "dataset=data.values\n",
    "# Get the number of rows to train the model on\n",
    "training_data_len=math.ceil(len(dataset)*.8)\n",
    "training_data_len"
   ]
  },
  {
   "cell_type": "code",
   "execution_count": null,
   "id": "BdFhjKT3p9up",
   "metadata": {
    "colab": {
     "base_uri": "https://localhost:8080/"
    },
    "id": "BdFhjKT3p9up",
    "outputId": "f7ccc777-19f3-42b5-dee8-d01fd014e689"
   },
   "outputs": [
    {
     "data": {
      "text/plain": [
       "array([[0.05247799],\n",
       "       [0.05132544],\n",
       "       [0.04656809],\n",
       "       ...,\n",
       "       [0.75649231],\n",
       "       [0.78334437],\n",
       "       [0.80975502]])"
      ]
     },
     "execution_count": 60,
     "metadata": {},
     "output_type": "execute_result"
    }
   ],
   "source": [
    "# Scale the data\n",
    "scaler = MinMaxScaler(feature_range=(0,1))\n",
    "scaled_data=scaler.fit_transform(dataset)\n",
    "scaled_data"
   ]
  },
  {
   "cell_type": "code",
   "execution_count": null,
   "id": "26aoykJ8q7uL",
   "metadata": {
    "colab": {
     "base_uri": "https://localhost:8080/"
    },
    "id": "26aoykJ8q7uL",
    "outputId": "afb6bbd3-0964-4709-ab5d-b7e9cc59888a"
   },
   "outputs": [
    {
     "name": "stdout",
     "output_type": "stream",
     "text": [
      "[array([0.05247799, 0.05132544, 0.04656809, 0.02707276, 0.03599892,\n",
      "       0.02999093, 0.03894161, 0.03403713, 0.03053042, 0.02650874,\n",
      "       0.04087888, 0.04355183, 0.04843179, 0.05990829, 0.06172295,\n",
      "       0.05044263, 0.05198754, 0.05304201, 0.06177199, 0.0728316 ,\n",
      "       0.06589176, 0.06236053, 0.07685328, 0.07253734, 0.07003605,\n",
      "       0.06326786, 0.05679394, 0.04958434, 0.05875573, 0.06290002,\n",
      "       0.06699527, 0.05978567, 0.05922166, 0.05941784, 0.04521935,\n",
      "       0.03460114, 0.02969666, 0.03053042, 0.0299664 , 0.03661198,\n",
      "       0.04132029, 0.04087888, 0.05880478, 0.05245347, 0.05103117,\n",
      "       0.04352731, 0.0383776 , 0.03680816, 0.04065818, 0.03393904,\n",
      "       0.03001545, 0.03724956, 0.04303686, 0.03690625, 0.03590083,\n",
      "       0.02994188, 0.03288457, 0.0313887 , 0.02373771, 0.01510581])]\n",
      "[0.014639888177738536]\n",
      "\n",
      "[array([0.05247799, 0.05132544, 0.04656809, 0.02707276, 0.03599892,\n",
      "       0.02999093, 0.03894161, 0.03403713, 0.03053042, 0.02650874,\n",
      "       0.04087888, 0.04355183, 0.04843179, 0.05990829, 0.06172295,\n",
      "       0.05044263, 0.05198754, 0.05304201, 0.06177199, 0.0728316 ,\n",
      "       0.06589176, 0.06236053, 0.07685328, 0.07253734, 0.07003605,\n",
      "       0.06326786, 0.05679394, 0.04958434, 0.05875573, 0.06290002,\n",
      "       0.06699527, 0.05978567, 0.05922166, 0.05941784, 0.04521935,\n",
      "       0.03460114, 0.02969666, 0.03053042, 0.0299664 , 0.03661198,\n",
      "       0.04132029, 0.04087888, 0.05880478, 0.05245347, 0.05103117,\n",
      "       0.04352731, 0.0383776 , 0.03680816, 0.04065818, 0.03393904,\n",
      "       0.03001545, 0.03724956, 0.04303686, 0.03690625, 0.03590083,\n",
      "       0.02994188, 0.03288457, 0.0313887 , 0.02373771, 0.01510581]), array([0.05132544, 0.04656809, 0.02707276, 0.03599892, 0.02999093,\n",
      "       0.03894161, 0.03403713, 0.03053042, 0.02650874, 0.04087888,\n",
      "       0.04355183, 0.04843179, 0.05990829, 0.06172295, 0.05044263,\n",
      "       0.05198754, 0.05304201, 0.06177199, 0.0728316 , 0.06589176,\n",
      "       0.06236053, 0.07685328, 0.07253734, 0.07003605, 0.06326786,\n",
      "       0.05679394, 0.04958434, 0.05875573, 0.06290002, 0.06699527,\n",
      "       0.05978567, 0.05922166, 0.05941784, 0.04521935, 0.03460114,\n",
      "       0.02969666, 0.03053042, 0.0299664 , 0.03661198, 0.04132029,\n",
      "       0.04087888, 0.05880478, 0.05245347, 0.05103117, 0.04352731,\n",
      "       0.0383776 , 0.03680816, 0.04065818, 0.03393904, 0.03001545,\n",
      "       0.03724956, 0.04303686, 0.03690625, 0.03590083, 0.02994188,\n",
      "       0.03288457, 0.0313887 , 0.02373771, 0.01510581, 0.01463989])]\n",
      "[0.014639888177738536, 0.022119228034037153]\n",
      "\n"
     ]
    }
   ],
   "source": [
    "# Create the training dataset\n",
    "# Create the scaled training dataset\n",
    "train_data=scaled_data[0:training_data_len,:]\n",
    "# Split the data into x_train and y_train data sets\n",
    "x_train=[]\n",
    "y_train=[]\n",
    "\n",
    "for i in range(60,len(train_data)):\n",
    "     x_train.append(train_data[i-60:i,0])\n",
    "    y_train.append(train_data[i,0])\n",
    "     if i<=61:\n",
    "    print(x_train)\n",
    "    print(y_train)\n",
    "    print()"
   ]
  },
  {
   "cell_type": "code",
   "execution_count": null,
   "id": "fUmb5Vv0thBd",
   "metadata": {
    "id": "fUmb5Vv0thBd"
   },
   "outputs": [],
   "source": [
    "# Convert the x_train and y_train to numpy arrays\n",
    "x_train,y_train=np.array(x_train),np.array(y_train)\n"
   ]
  },
  {
   "cell_type": "code",
   "execution_count": null,
   "id": "6fCQrwEct41R",
   "metadata": {
    "colab": {
     "base_uri": "https://localhost:8080/"
    },
    "id": "6fCQrwEct41R",
    "outputId": "5d20e189-e42a-4f41-df64-bdcb6e6e4e8d"
   },
   "outputs": [
    {
     "data": {
      "text/plain": [
       "(1552, 60, 1)"
      ]
     },
     "execution_count": 63,
     "metadata": {},
     "output_type": "execute_result"
    }
   ],
   "source": [
    "# Reshape the data\n",
    "x_train=np.reshape(x_train,(x_train.shape[0],x_train.shape[1],1))\n",
    "x_train.shape"
   ]
  },
  {
   "cell_type": "code",
   "execution_count": null,
   "id": "6rD_u2QZuguT",
   "metadata": {
    "id": "6rD_u2QZuguT"
   },
   "outputs": [],
   "source": [
    "# Build the LSTM Model\n",
    "model= Sequential()\n",
    "model.add(LSTM(50,return_sequences=True,input_shape=(x_train.shape[1],1)))\n",
    "model.add(LSTM(50,return_sequences=False))\n",
    "model.add(Dense(25))\n",
    "model.add(Dense(1))\n",
    "\n"
   ]
  },
  {
   "cell_type": "code",
   "execution_count": null,
   "id": "bnEPq9sXwNoV",
   "metadata": {
    "id": "bnEPq9sXwNoV"
   },
   "outputs": [],
   "source": [
    "# Compile the model\n",
    "model.compile(optimizer='adam',loss='mean_squared_error')"
   ]
  },
  {
   "cell_type": "code",
   "execution_count": null,
   "id": "gzf3d41Fwtx7",
   "metadata": {
    "colab": {
     "base_uri": "https://localhost:8080/"
    },
    "id": "gzf3d41Fwtx7",
    "outputId": "8fb66f4b-a09e-4deb-9276-969d3fe7efa4"
   },
   "outputs": [
    {
     "name": "stdout",
     "output_type": "stream",
     "text": [
      "1552/1552 [==============================] - 63s 38ms/step - loss: 0.0018\n"
     ]
    },
    {
     "data": {
      "text/plain": [
       "<keras.callbacks.History at 0x7f6dbf6d7c10>"
      ]
     },
     "execution_count": 66,
     "metadata": {},
     "output_type": "execute_result"
    }
   ],
   "source": [
    "# Train the model\n",
    "model.fit(x_train,y_train, batch_size=1,epochs=1)"
   ]
  },
  {
   "cell_type": "code",
   "execution_count": null,
   "id": "4607HPi5xKGe",
   "metadata": {
    "id": "4607HPi5xKGe"
   },
   "outputs": [],
   "source": [
    "# Create testing dataset\n",
    "# Create a new array containing \n",
    "test_data=scaled_data[training_data_len-60:,:]\n",
    "# Create the datasets x_test and y_test\n",
    "x_test=[]\n",
    "y_test=dataset[training_data_len:,:]\n",
    "for i in range (60,len(test_data)):\n",
    "  x_test.append(test_data[i-60:i,0])"
   ]
  },
  {
   "cell_type": "code",
   "execution_count": null,
   "id": "H5TNINeYyVaQ",
   "metadata": {
    "id": "H5TNINeYyVaQ"
   },
   "outputs": [],
   "source": [
    "# Convert the data to numpy array\n",
    "x_test=np.array(x_test)"
   ]
  },
  {
   "cell_type": "code",
   "execution_count": null,
   "id": "PMaKxc6Wyiw5",
   "metadata": {
    "id": "PMaKxc6Wyiw5"
   },
   "outputs": [],
   "source": [
    "# Reshape the data\n",
    "x_test=np.reshape(x_test,(x_test.shape[0],x_test.shape[1],1))"
   ]
  },
  {
   "cell_type": "code",
   "execution_count": null,
   "id": "WlX-qHtcy5F-",
   "metadata": {
    "colab": {
     "base_uri": "https://localhost:8080/"
    },
    "id": "WlX-qHtcy5F-",
    "outputId": "4b46a8c1-5598-402a-b5a4-aa5c4a6146a3"
   },
   "outputs": [
    {
     "name": "stdout",
     "output_type": "stream",
     "text": [
      "13/13 [==============================] - 1s 22ms/step\n"
     ]
    }
   ],
   "source": [
    "# Get the models predicted price values\n",
    "predictions=model.predict(x_test)\n",
    "predictions=scaler.inverse_transform(predictions)\n"
   ]
  },
  {
   "cell_type": "code",
   "execution_count": null,
   "id": "XItk2ObAzXGF",
   "metadata": {
    "colab": {
     "base_uri": "https://localhost:8080/"
    },
    "id": "XItk2ObAzXGF",
    "outputId": "55839495-1421-4d9d-d74a-f25ab3685eeb"
   },
   "outputs": [
    {
     "data": {
      "text/plain": [
       "30.948678725513055"
      ]
     },
     "execution_count": 71,
     "metadata": {},
     "output_type": "execute_result"
    }
   ],
   "source": [
    "# Get the Root mean squared error RMSE\n",
    "rmse=np.sqrt(np.mean(predictions-y_test)**2)\n",
    "rmse"
   ]
  },
  {
   "cell_type": "code",
   "execution_count": null,
   "id": "4F90kHyD0wQ1",
   "metadata": {
    "colab": {
     "base_uri": "https://localhost:8080/",
     "height": 690
    },
    "id": "4F90kHyD0wQ1",
    "outputId": "12618ce2-a4b4-49cb-f973-76d022dcac11"
   },
   "outputs": [
    {
     "data": {
      "image/png": "[encoded data removed]",
      "text/plain": [
       "<Figure size 1600x800 with 1 Axes>"
      ]
     },
     "metadata": {},
     "output_type": "display_data"
    }
   ],
   "source": [
    "# Plot the data\n",
    "train=data[:training_data_len]\n",
    "valid=data[training_data_len:]\n",
    "valid['Predictions']=predictions\n",
    "# Visualize the data\n",
    "plt.figure(figsize=(16,8))\n",
    "plt.xlabel('Date',fontsize=18)\n",
    "plt.ylabel('Close Price USD ($)',fontsize=18)\n",
    "plt.plot(train['Close'])\n",
    "plt.plot(valid[['Close','Predictions']])\n",
    "plt.legend(['Train','Val','Predictions'],loc='lower right')\n",
    "plt.show()"
   ]
  },
  {
   "cell_type": "code",
   "execution_count": null,
   "id": "kVKrQfXK7BI-",
   "metadata": {
    "colab": {
     "base_uri": "https://localhost:8080/",
     "height": 455
    },
    "id": "kVKrQfXK7BI-",
    "outputId": "6e07d9aa-230c-4bf9-c948-113980f13b7f"
   },
   "outputs": [
    {
     "data": {
      "text/html": [
       "\n",
       "  <div id=\"df-6464caa5-1567-48dc-8f13-95fe64ea3477\">\n",
       "    <div class=\"colab-df-container\">\n",
       "      <div>\n",
       "<style scoped>\n",
       "    .dataframe tbody tr th:only-of-type {\n",
       "        vertical-align: middle;\n",
       "    }\n",
       "\n",
       "    .dataframe tbody tr th {\n",
       "        vertical-align: top;\n",
       "    }\n",
       "\n",
       "    .dataframe thead th {\n",
       "        text-align: right;\n",
       "    }\n",
       "</style>\n",
       "<table border=\"1\" class=\"dataframe\">\n",
       "  <thead>\n",
       "    <tr style=\"text-align: right;\">\n",
       "      <th></th>\n",
       "      <th>Close</th>\n",
       "      <th>Predictions</th>\n",
       "    </tr>\n",
       "    <tr>\n",
       "      <th>Date</th>\n",
       "      <th></th>\n",
       "      <th></th>\n",
       "    </tr>\n",
       "  </thead>\n",
       "  <tbody>\n",
       "    <tr>\n",
       "      <th>2021-07-07</th>\n",
       "      <td>2110.05</td>\n",
       "      <td>2152.456787</td>\n",
       "    </tr>\n",
       "    <tr>\n",
       "      <th>2021-07-08</th>\n",
       "      <td>2092.60</td>\n",
       "      <td>2154.003906</td>\n",
       "    </tr>\n",
       "    <tr>\n",
       "      <th>2021-07-09</th>\n",
       "      <td>2071.20</td>\n",
       "      <td>2149.646729</td>\n",
       "    </tr>\n",
       "    <tr>\n",
       "      <th>2021-07-12</th>\n",
       "      <td>2084.10</td>\n",
       "      <td>2139.336670</td>\n",
       "    </tr>\n",
       "    <tr>\n",
       "      <th>2021-07-13</th>\n",
       "      <td>2099.70</td>\n",
       "      <td>2130.956787</td>\n",
       "    </tr>\n",
       "    <tr>\n",
       "      <th>...</th>\n",
       "      <td>...</td>\n",
       "      <td>...</td>\n",
       "    </tr>\n",
       "    <tr>\n",
       "      <th>2023-02-09</th>\n",
       "      <td>2356.05</td>\n",
       "      <td>2359.322266</td>\n",
       "    </tr>\n",
       "    <tr>\n",
       "      <th>2023-02-10</th>\n",
       "      <td>2336.65</td>\n",
       "      <td>2366.988281</td>\n",
       "    </tr>\n",
       "    <tr>\n",
       "      <th>2023-02-13</th>\n",
       "      <td>2323.35</td>\n",
       "      <td>2371.348389</td>\n",
       "    </tr>\n",
       "    <tr>\n",
       "      <th>2023-02-14</th>\n",
       "      <td>2378.10</td>\n",
       "      <td>2370.984863</td>\n",
       "    </tr>\n",
       "    <tr>\n",
       "      <th>2023-02-15</th>\n",
       "      <td>2431.95</td>\n",
       "      <td>2379.773193</td>\n",
       "    </tr>\n",
       "  </tbody>\n",
       "</table>\n",
       "<p>402 rows × 2 columns</p>\n",
       "</div>\n",
       "      <button class=\"colab-df-convert\" onclick=\"convertToInteractive('df-6464caa5-1567-48dc-8f13-95fe64ea3477')\"\n",
       "              title=\"Convert this dataframe to an interactive table.\"\n",
       "              style=\"display:none;\">\n",
       "        \n",
       "  <svg xmlns=\"http://www.w3.org/2000/svg\" height=\"24px\"viewBox=\"0 0 24 24\"\n",
       "       width=\"24px\">\n",
       "    <path d=\"M0 0h24v24H0V0z\" fill=\"none\"/>\n",
       "    <path d=\"M18.56 5.44l.94 2.06.94-2.06 2.06-.94-2.06-.94-.94-2.06-.94 2.06-2.06.94zm-11 1L8.5 8.5l.94-2.06 2.06-.94-2.06-.94L8.5 2.5l-.94 2.06-2.06.94zm10 10l.94 2.06.94-2.06 2.06-.94-2.06-.94-.94-2.06-.94 2.06-2.06.94z\"/><path d=\"M17.41 7.96l-1.37-1.37c-.4-.4-.92-.59-1.43-.59-.52 0-1.04.2-1.43.59L10.3 9.45l-7.72 7.72c-.78.78-.78 2.05 0 2.83L4 21.41c.39.39.9.59 1.41.59.51 0 1.02-.2 1.41-.59l7.78-7.78 2.81-2.81c.8-.78.8-2.07 0-2.86zM5.41 20L4 18.59l7.72-7.72 1.47 1.35L5.41 20z\"/>\n",
       "  </svg>\n",
       "      </button>\n",
       "      \n",
       "  <style>\n",
       "    .colab-df-container {\n",
       "      display:flex;\n",
       "      flex-wrap:wrap;\n",
       "      gap: 12px;\n",
       "    }\n",
       "\n",
       "    .colab-df-convert {\n",
       "      background-color: #E8F0FE;\n",
       "      border: none;\n",
       "      border-radius: 50%;\n",
       "      cursor: pointer;\n",
       "      display: none;\n",
       "      fill: #1967D2;\n",
       "      height: 32px;\n",
       "      padding: 0 0 0 0;\n",
       "      width: 32px;\n",
       "    }\n",
       "\n",
       "    .colab-df-convert:hover {\n",
       "      background-color: #E2EBFA;\n",
       "      box-shadow: 0px 1px 2px rgba(60, 64, 67, 0.3), 0px 1px 3px 1px rgba(60, 64, 67, 0.15);\n",
       "      fill: #174EA6;\n",
       "    }\n",
       "\n",
       "    [theme=dark] .colab-df-convert {\n",
       "      background-color: #3B4455;\n",
       "      fill: #D2E3FC;\n",
       "    }\n",
       "\n",
       "    [theme=dark] .colab-df-convert:hover {\n",
       "      background-color: #434B5C;\n",
       "      box-shadow: 0px 1px 3px 1px rgba(0, 0, 0, 0.15);\n",
       "      filter: drop-shadow(0px 1px 2px rgba(0, 0, 0, 0.3));\n",
       "      fill: #FFFFFF;\n",
       "    }\n",
       "  </style>\n",
       "\n",
       "      <script>\n",
       "        const buttonEl =\n",
       "          document.querySelector('#df-6464caa5-1567-48dc-8f13-95fe64ea3477 button.colab-df-convert');\n",
       "        buttonEl.style.display =\n",
       "          google.colab.kernel.accessAllowed ? 'block' : 'none';\n",
       "\n",
       "        async function convertToInteractive(key) {\n",
       "          const element = document.querySelector('#df-6464caa5-1567-48dc-8f13-95fe64ea3477');\n",
       "          const dataTable =\n",
       "            await google.colab.kernel.invokeFunction('convertToInteractive',\n",
       "                                                     [key], {});\n",
       "          if (!dataTable) return;\n",
       "\n",
       "          const docLinkHtml = 'Like what you see? Visit the ' +\n",
       "            '<a target=\"_blank\" href=https://colab.research.google.com/notebooks/data_table.ipynb>data table notebook</a>'\n",
       "            + ' to learn more about interactive tables.';\n",
       "          element.innerHTML = '';\n",
       "          dataTable['output_type'] = 'display_data';\n",
       "          await google.colab.output.renderOutput(dataTable, element);\n",
       "          const docLink = document.createElement('div');\n",
       "          docLink.innerHTML = docLinkHtml;\n",
       "          element.appendChild(docLink);\n",
       "        }\n",
       "      </script>\n",
       "    </div>\n",
       "  </div>\n",
       "  "
      ],
      "text/plain": [
       "              Close  Predictions\n",
       "Date                            \n",
       "2021-07-07  2110.05  2152.456787\n",
       "2021-07-08  2092.60  2154.003906\n",
       "2021-07-09  2071.20  2149.646729\n",
       "2021-07-12  2084.10  2139.336670\n",
       "2021-07-13  2099.70  2130.956787\n",
       "...             ...          ...\n",
       "2023-02-09  2356.05  2359.322266\n",
       "2023-02-10  2336.65  2366.988281\n",
       "2023-02-13  2323.35  2371.348389\n",
       "2023-02-14  2378.10  2370.984863\n",
       "2023-02-15  2431.95  2379.773193\n",
       "\n",
       "[402 rows x 2 columns]"
      ]
     },
     "execution_count": 73,
     "metadata": {},
     "output_type": "execute_result"
    }
   ],
   "source": [
    "# Show the valid and the predicted prices\n",
    "valid"
   ]
  },
  {
   "cell_type": "code",
   "execution_count": null,
   "id": "DMJ8EVx7E2kb",
   "metadata": {
    "id": "DMJ8EVx7E2kb"
   },
   "outputs": [],
   "source": [
    "%%writefile app.py\n",
    "import pandas as  pd\n",
    "import numpy as np\n",
    "import matplotlib as mpl\n",
    "import matplotlib.pyplot as plt\n",
    "import seaborn as sns\n",
    "import streamlit as st\n",
    "import datetime as dt\n",
    "from datetime import timedelta\n",
    "from datetime import date\n",
    "\n",
    "import yfinance as yf\n",
    "import pandas_datareader as data\n",
    "from datetime import date\n",
    "from keras.models import load_model\n",
    "\n",
    "start=date(2015,1,1)\n",
    "end=date(2023,2,15)\n",
    "\n",
    "st.title('Stock Price Prediction')\n",
    "user_input=st.text_input('Enter Stock Ticker','RELIANCE')\n",
    "stock_info = yf.Ticker(user_input).info\n",
    "reliance=data.DataReader(user_input, 'yahoo', start, end)\n",
    "\n",
    "st.subheader('Data from 2015 to 2023')\n",
    "st.write(reliance.describe())\n",
    "\n",
    "#visualization\n",
    "st.subheader('Closing price Vs Time Chart')\n",
    "fig=plt.figure(figsize=(12,6))\n",
    "plt.xlabel('Date',fontsize=18)\n",
    "plt.ylabel('Close Price',fontsize=18)\n",
    "plt.plot(reliance.Close)\n",
    "st.pyplot(fig)\n",
    "\n",
    "st.subheader('Closing price Vs Time Chart with 100MA')\n",
    "ma100=reliance.Close.rolling(100).mean()\n",
    "fig=plt.figure(figsize=(12,6))\n",
    "plt.xlabel('Date',fontsize=18)\n",
    "plt.ylabel('Close Price',fontsize=18)\n",
    "plt.plot(ma100)\n",
    "plt.plot(reliance.Close)\n",
    "st.pyplot(fig)\n",
    "\n",
    "st.subheader('Closing price Vs Time Chart with 100MA and 200MA')\n",
    "ma100=reliance.Close.rolling(100).mean()\n",
    "ma200=reliance.Close.rolling(200).mean()\n",
    "fig=plt.figure(figsize=(12,6))\n",
    "plt.xlabel('Date',fontsize=18)\n",
    "plt.ylabel('Close Price',fontsize=18)\n",
    "plt.plot(ma100)\n",
    "plt.plot(ma200)\n",
    "plt.plot(reliance.Close)\n",
    "st.pyplot(fig)\n",
    "\n",
    "from sklearn.preprocessing import MinMaxScaler, StandardScaler\n",
    "from sklearn.metrics import mean_squared_error\n",
    "from sklearn.metrics import mean_absolute_percentage_error\n",
    "from sklearn.model_selection import train_test_split\n",
    "from sklearn.model_selection import TimeSeriesSplit\n",
    "from sklearn.metrics import mean_squared_error\n",
    "\n",
    "import math\n",
    "# Create a new dataframe with only Close column\n",
    "data=reliance.filter(['Close'])\n",
    "# Convert the dataframe to a numpy array\n",
    "dataset=data.values\n",
    "# Get the number of rows to train the model on\n",
    "training_data_len=math.ceil(len(dataset)*.8)\n",
    "\n",
    "# Scale the data\n",
    "scaler = MinMaxScaler(feature_range=(0,1))\n",
    "scaled_data=scaler.fit_transform(dataset)\n",
    "\n",
    "# Create the training dataset\n",
    "# Create the scaled training dataset\n",
    "train_data=scaled_data[0:training_data_len,:]\n",
    "\n",
    "#load my model\n",
    "model=load_model('keras_model.h5')\n",
    "\n",
    "# Create testing dataset\n",
    "# Create a new array containing \n",
    "test_data=scaled_data[training_data_len-60:,:]\n",
    "# Create the datasets x_test and y_test\n",
    "x_test=[]\n",
    "y_test=dataset[training_data_len:,:]\n",
    "for i in range (60,len(test_data)):\n",
    "  x_test.append(test_data[i-60:i,0])\n",
    "\n",
    "# Convert the data to numpy array\n",
    "x_test=np.array(x_test)\n",
    "\n",
    "# Reshape the data\n",
    "x_test=np.reshape(x_test,(x_test.shape[0],x_test.shape[1],1))\n",
    "\n",
    "# Get the models predicted price values\n",
    "predictions=model.predict(x_test)\n",
    "predictions=scaler.inverse_transform(predictions)\n",
    "\n",
    "# Plot the data\n",
    "st.subheader('Predictions Vs Original')\n",
    "train=data[:training_data_len]\n",
    "valid=data[training_data_len:]\n",
    "valid['Predictions']=predictions\n",
    "# Visualize the data\n",
    "fig2=plt.figure(figsize=(16,8))\n",
    "plt.xlabel('Date',fontsize=18)\n",
    "plt.ylabel('Close Price',fontsize=18)\n",
    "plt.plot(train['Close'])\n",
    "plt.plot(valid[['Close','Predictions']])\n",
    "plt.legend(['Train','Val','Predictions'],loc='lower right')\n",
    "st.pyplot(fig2)\n",
    "\n",
    "st.subheader('Stock Price Prediction by Date')\n",
    "\n",
    "df1=reliance.reset_index()['Close']\n",
    "scaler=MinMaxScaler(feature_range=(0,1))\n",
    "df1=scaler.fit_transform(np.array(df1).reshape(-1,1))\n",
    "#datemax=\"24/06/2022\"\n",
    "datemax=dt.datetime.strftime(dt.datetime.now() - timedelta(1), \"%d/%m/%Y\")\n",
    "datemax =dt.datetime.strptime(datemax,\"%d/%m/%Y\")\n",
    "x_input=df1[:].reshape(1,-1)\n",
    "temp_input=list(x_input)\n",
    "temp_input=temp_input[0].tolist()\n",
    "\n",
    "date1 = st.date_input(\"Enter Date in this format yyyy-mm-dd\")\n",
    "\n",
    "result = st.button(\"Predict\")\n",
    "#st.write(result)\n",
    "if result:\n",
    "    from datetime import datetime\n",
    "    my_time = datetime.min.time()\n",
    "    date1 = datetime.combine(date1, my_time)\n",
    "    #date1=str(date1)\n",
    "    #date1=dt.datetime.strptime(time_str,\"%Y-%m-%d\")\n",
    "\n",
    "    nDay=date1-datemax\n",
    "    nDay=nDay.days\n",
    "\n",
    "    date_rng = pd.date_range(start=datemax, end=date1, freq='D')\n",
    "    date_rng=date_rng[1:date_rng.size]\n",
    "    lst_output=[]\n",
    "    n_steps=x_input.shape[1]\n",
    "    i=0\n",
    "\n",
    "    while(i<=nDay):\n",
    "    \n",
    "         if(len(temp_input)>n_steps):\n",
    "               #print(temp_input)\n",
    "                x_input=np.array(temp_input[1:]) \n",
    "                print(\"{} day input {}\".format(i,x_input))\n",
    "                x_input=x_input.reshape(1,-1)\n",
    "                x_input = x_input.reshape((1, n_steps, 1))\n",
    "        #print(x_input)\n",
    "                yhat = model.predict(x_input, verbose=0)\n",
    "                print(\"{} day output {}\".format(i,yhat))\n",
    "                temp_input.extend(yhat[0].tolist())\n",
    "                temp_input=temp_input[1:]\n",
    "                #print(temp_input)\n",
    "                lst_output.extend(yhat.tolist())\n",
    "                i=i+1\n",
    "        else:\n",
    "                x_input = x_input.reshape((1, n_steps,1))\n",
    "                yhat = model.predict(x_input, verbose=0)\n",
    "                print(yhat[0])\n",
    "                temp_input.extend(yhat[0].tolist())\n",
    "                print(len(temp_input))\n",
    "                lst_output.extend(yhat.tolist())\n",
    "                i=i+1\n",
    "    res =scaler.inverse_transform(lst_output)\n",
    "#output = res[nDay-1]\n",
    "\n",
    "output = res[nDay]\n",
    "\n",
    "st.write(\"*Predicted Price for Date :*\", date1, \"*is*\", np.round(output[0], 2))\n",
    "st.success('The Price is {}'.format(np.round(output[0], 2)))\n",
    "\n",
    "#st.write(\"predicted price : \",output)\n",
    "\n",
    "predictions=res[res.size-nDay:res.size]\n",
    "print(predictions.shape)\n",
    "predictions=predictions.ravel()\n",
    "print(type(predictions))\n",
    "print(date_rng)\n",
    "print(predictions)\n",
    "print(date_rng.shape)\n",
    "\n",
    "@st.cache\n",
    "def convert_df(df):\n",
    "    return df.to_csv().encode('utf-8')\n",
    "df = pd.DataFrame(data = date_rng)\n",
    "df['Predictions'] = predictions.tolist()\n",
    "df.columns =['Date','Price']\n",
    "st.write(df)\n",
    "csv = convert_df(df)\n",
    "st.download_button(\n",
    "   \"Press to Download\",\n",
    "   csv,\n",
    "   \"file.csv\",\n",
    "   \"text/csv\",\n",
    "   key='download-csv'\n",
    "   )\n",
    "\n",
    "  #visualization\n",
    "\n",
    "    fig =plt.figure(figsize=(10,6))\n",
    "    xpoints = date_rng\n",
    "    ypoints =predictions\n",
    "    plt.xticks(rotation = 90)\n",
    "    plt.plot(xpoints, ypoints)\n",
    "    st.pyplot(fig)\n"
   ]
  }
 ],
 "metadata": {
  "colab": {
   "provenance": []
  },
  "kernelspec": {
   "display_name": "Python 3 (ipykernel)",
   "language": "python",
   "name": "python3"
  },
  "language_info": {
   "codemirror_mode": {
    "name": "ipython",
    "version": 3
   },
   "file_extension": ".py",
   "mimetype": "text/x-python",
   "name": "python",
   "nbconvert_exporter": "python",
   "pygments_lexer": "ipython3",
   "version": "3.9.13"
  }
 },
 "nbformat": 4,
 "nbformat_minor": 5
}
